{
  "nbformat": 4,
  "nbformat_minor": 0,
  "metadata": {
    "colab": {
      "name": "Practico_Sist_Rec.ipynb",
      "provenance": [],
      "collapsed_sections": [],
      "authorship_tag": "ABX9TyMPYp+IzeTo7SGhYiqWnnF4",
      "include_colab_link": true
    },
    "kernelspec": {
      "name": "python3",
      "display_name": "Python 3"
    }
  },
  "cells": [
    {
      "cell_type": "markdown",
      "metadata": {
        "id": "view-in-github",
        "colab_type": "text"
      },
      "source": [
        "<a href=\"https://colab.research.google.com/github/luciozarazaga/SistemasDeRecomendacion/blob/main/Practico_Sist_Rec.ipynb\" target=\"_parent\"><img src=\"https://colab.research.google.com/assets/colab-badge.svg\" alt=\"Open In Colab\"/></a>"
      ]
    },
    {
      "cell_type": "code",
      "metadata": {
        "id": "KAbQw-M0f9yl"
      },
      "source": [
        "import pandas as pd\r\n",
        "import matplotlib.pyplot as plt\r\n",
        "import seaborn as sns\r\n",
        "import numpy as np\r\n",
        "from scipy.sparse import csr_matrix"
      ],
      "execution_count": 1,
      "outputs": []
    },
    {
      "cell_type": "markdown",
      "metadata": {
        "id": "QPQwUuN7t4ei"
      },
      "source": [
        "## Integrantes\r\n",
        "\r\n",
        "\r\n",
        "*   Fernando Vázquez\r\n",
        "*   Gaspar García Bazán\r\n",
        "*   Lucio A. Zarazaga\r\n",
        "*   Pablo Estrada\r\n",
        "\r\n"
      ]
    },
    {
      "cell_type": "code",
      "metadata": {
        "colab": {
          "base_uri": "https://localhost:8080/"
        },
        "id": "pjPsvUKWgJAv",
        "outputId": "1ab5be22-47c4-4957-8129-5655cd243635"
      },
      "source": [
        "from google.colab import drive\r\n",
        "drive.mount('/content/drive')"
      ],
      "execution_count": 3,
      "outputs": [
        {
          "output_type": "stream",
          "text": [
            "Mounted at /content/drive\n"
          ],
          "name": "stdout"
        }
      ]
    },
    {
      "cell_type": "code",
      "metadata": {
        "colab": {
          "base_uri": "https://localhost:8080/",
          "height": 197
        },
        "id": "V13Bzzw-gXOG",
        "outputId": "03d4935e-acac-4c7d-eb83-45f452d23012"
      },
      "source": [
        "artist_data=pd.read_csv('/content/drive/MyDrive/Colab Notebooks/artists.dat', sep='\\t')\r\n",
        "artist_data= artist_data.rename(columns={'id': 'artistID'})\r\n",
        "artist_data.head()"
      ],
      "execution_count": 4,
      "outputs": [
        {
          "output_type": "execute_result",
          "data": {
            "text/html": [
              "<div>\n",
              "<style scoped>\n",
              "    .dataframe tbody tr th:only-of-type {\n",
              "        vertical-align: middle;\n",
              "    }\n",
              "\n",
              "    .dataframe tbody tr th {\n",
              "        vertical-align: top;\n",
              "    }\n",
              "\n",
              "    .dataframe thead th {\n",
              "        text-align: right;\n",
              "    }\n",
              "</style>\n",
              "<table border=\"1\" class=\"dataframe\">\n",
              "  <thead>\n",
              "    <tr style=\"text-align: right;\">\n",
              "      <th></th>\n",
              "      <th>artistID</th>\n",
              "      <th>name</th>\n",
              "      <th>url</th>\n",
              "      <th>pictureURL</th>\n",
              "    </tr>\n",
              "  </thead>\n",
              "  <tbody>\n",
              "    <tr>\n",
              "      <th>0</th>\n",
              "      <td>1</td>\n",
              "      <td>MALICE MIZER</td>\n",
              "      <td>http://www.last.fm/music/MALICE+MIZER</td>\n",
              "      <td>http://userserve-ak.last.fm/serve/252/10808.jpg</td>\n",
              "    </tr>\n",
              "    <tr>\n",
              "      <th>1</th>\n",
              "      <td>2</td>\n",
              "      <td>Diary of Dreams</td>\n",
              "      <td>http://www.last.fm/music/Diary+of+Dreams</td>\n",
              "      <td>http://userserve-ak.last.fm/serve/252/3052066.jpg</td>\n",
              "    </tr>\n",
              "    <tr>\n",
              "      <th>2</th>\n",
              "      <td>3</td>\n",
              "      <td>Carpathian Forest</td>\n",
              "      <td>http://www.last.fm/music/Carpathian+Forest</td>\n",
              "      <td>http://userserve-ak.last.fm/serve/252/40222717...</td>\n",
              "    </tr>\n",
              "    <tr>\n",
              "      <th>3</th>\n",
              "      <td>4</td>\n",
              "      <td>Moi dix Mois</td>\n",
              "      <td>http://www.last.fm/music/Moi+dix+Mois</td>\n",
              "      <td>http://userserve-ak.last.fm/serve/252/54697835...</td>\n",
              "    </tr>\n",
              "    <tr>\n",
              "      <th>4</th>\n",
              "      <td>5</td>\n",
              "      <td>Bella Morte</td>\n",
              "      <td>http://www.last.fm/music/Bella+Morte</td>\n",
              "      <td>http://userserve-ak.last.fm/serve/252/14789013...</td>\n",
              "    </tr>\n",
              "  </tbody>\n",
              "</table>\n",
              "</div>"
            ],
            "text/plain": [
              "   artistID  ...                                         pictureURL\n",
              "0         1  ...    http://userserve-ak.last.fm/serve/252/10808.jpg\n",
              "1         2  ...  http://userserve-ak.last.fm/serve/252/3052066.jpg\n",
              "2         3  ...  http://userserve-ak.last.fm/serve/252/40222717...\n",
              "3         4  ...  http://userserve-ak.last.fm/serve/252/54697835...\n",
              "4         5  ...  http://userserve-ak.last.fm/serve/252/14789013...\n",
              "\n",
              "[5 rows x 4 columns]"
            ]
          },
          "metadata": {
            "tags": []
          },
          "execution_count": 4
        }
      ]
    },
    {
      "cell_type": "code",
      "metadata": {
        "colab": {
          "base_uri": "https://localhost:8080/",
          "height": 197
        },
        "id": "y8RHGAj9gdE7",
        "outputId": "68c2f925-a608-4afb-afab-e5a0c791aa39"
      },
      "source": [
        "user_artist_plays = pd.read_csv(\"/content/drive/MyDrive/Colab Notebooks/lastfm/user_artists.dat\", sep=\"\\t\")\r\n",
        "user_artist_plays.head()"
      ],
      "execution_count": 5,
      "outputs": [
        {
          "output_type": "execute_result",
          "data": {
            "text/html": [
              "<div>\n",
              "<style scoped>\n",
              "    .dataframe tbody tr th:only-of-type {\n",
              "        vertical-align: middle;\n",
              "    }\n",
              "\n",
              "    .dataframe tbody tr th {\n",
              "        vertical-align: top;\n",
              "    }\n",
              "\n",
              "    .dataframe thead th {\n",
              "        text-align: right;\n",
              "    }\n",
              "</style>\n",
              "<table border=\"1\" class=\"dataframe\">\n",
              "  <thead>\n",
              "    <tr style=\"text-align: right;\">\n",
              "      <th></th>\n",
              "      <th>userID</th>\n",
              "      <th>artistID</th>\n",
              "      <th>weight</th>\n",
              "    </tr>\n",
              "  </thead>\n",
              "  <tbody>\n",
              "    <tr>\n",
              "      <th>0</th>\n",
              "      <td>2</td>\n",
              "      <td>51</td>\n",
              "      <td>13883</td>\n",
              "    </tr>\n",
              "    <tr>\n",
              "      <th>1</th>\n",
              "      <td>2</td>\n",
              "      <td>52</td>\n",
              "      <td>11690</td>\n",
              "    </tr>\n",
              "    <tr>\n",
              "      <th>2</th>\n",
              "      <td>2</td>\n",
              "      <td>53</td>\n",
              "      <td>11351</td>\n",
              "    </tr>\n",
              "    <tr>\n",
              "      <th>3</th>\n",
              "      <td>2</td>\n",
              "      <td>54</td>\n",
              "      <td>10300</td>\n",
              "    </tr>\n",
              "    <tr>\n",
              "      <th>4</th>\n",
              "      <td>2</td>\n",
              "      <td>55</td>\n",
              "      <td>8983</td>\n",
              "    </tr>\n",
              "  </tbody>\n",
              "</table>\n",
              "</div>"
            ],
            "text/plain": [
              "   userID  artistID  weight\n",
              "0       2        51   13883\n",
              "1       2        52   11690\n",
              "2       2        53   11351\n",
              "3       2        54   10300\n",
              "4       2        55    8983"
            ]
          },
          "metadata": {
            "tags": []
          },
          "execution_count": 5
        }
      ]
    },
    {
      "cell_type": "code",
      "metadata": {
        "colab": {
          "base_uri": "https://localhost:8080/",
          "height": 197
        },
        "id": "STz7UX-DgdXc",
        "outputId": "f62ed0fd-3280-4b80-8bbd-fe37cbbbe3d2"
      },
      "source": [
        "tags=pd.read_csv('/content/drive/MyDrive/Colab Notebooks/lastfm/tags.dat', sep='\\t', engine='python')\r\n",
        "tags.head()"
      ],
      "execution_count": 6,
      "outputs": [
        {
          "output_type": "execute_result",
          "data": {
            "text/html": [
              "<div>\n",
              "<style scoped>\n",
              "    .dataframe tbody tr th:only-of-type {\n",
              "        vertical-align: middle;\n",
              "    }\n",
              "\n",
              "    .dataframe tbody tr th {\n",
              "        vertical-align: top;\n",
              "    }\n",
              "\n",
              "    .dataframe thead th {\n",
              "        text-align: right;\n",
              "    }\n",
              "</style>\n",
              "<table border=\"1\" class=\"dataframe\">\n",
              "  <thead>\n",
              "    <tr style=\"text-align: right;\">\n",
              "      <th></th>\n",
              "      <th>tagID</th>\n",
              "      <th>tagValue</th>\n",
              "    </tr>\n",
              "  </thead>\n",
              "  <tbody>\n",
              "    <tr>\n",
              "      <th>0</th>\n",
              "      <td>1</td>\n",
              "      <td>metal</td>\n",
              "    </tr>\n",
              "    <tr>\n",
              "      <th>1</th>\n",
              "      <td>2</td>\n",
              "      <td>alternative metal</td>\n",
              "    </tr>\n",
              "    <tr>\n",
              "      <th>2</th>\n",
              "      <td>3</td>\n",
              "      <td>goth rock</td>\n",
              "    </tr>\n",
              "    <tr>\n",
              "      <th>3</th>\n",
              "      <td>4</td>\n",
              "      <td>black metal</td>\n",
              "    </tr>\n",
              "    <tr>\n",
              "      <th>4</th>\n",
              "      <td>5</td>\n",
              "      <td>death metal</td>\n",
              "    </tr>\n",
              "  </tbody>\n",
              "</table>\n",
              "</div>"
            ],
            "text/plain": [
              "   tagID           tagValue\n",
              "0      1              metal\n",
              "1      2  alternative metal\n",
              "2      3          goth rock\n",
              "3      4        black metal\n",
              "4      5        death metal"
            ]
          },
          "metadata": {
            "tags": []
          },
          "execution_count": 6
        }
      ]
    },
    {
      "cell_type": "code",
      "metadata": {
        "colab": {
          "base_uri": "https://localhost:8080/",
          "height": 197
        },
        "id": "vHRdE6AEgdi-",
        "outputId": "2a0930a0-e91a-444f-ad7e-bde37429b0b7"
      },
      "source": [
        "user_friends=pd.read_csv('/content/drive/MyDrive/Colab Notebooks/lastfm/user_friends.dat', sep='\\t')\r\n",
        "user_friends.head()"
      ],
      "execution_count": 7,
      "outputs": [
        {
          "output_type": "execute_result",
          "data": {
            "text/html": [
              "<div>\n",
              "<style scoped>\n",
              "    .dataframe tbody tr th:only-of-type {\n",
              "        vertical-align: middle;\n",
              "    }\n",
              "\n",
              "    .dataframe tbody tr th {\n",
              "        vertical-align: top;\n",
              "    }\n",
              "\n",
              "    .dataframe thead th {\n",
              "        text-align: right;\n",
              "    }\n",
              "</style>\n",
              "<table border=\"1\" class=\"dataframe\">\n",
              "  <thead>\n",
              "    <tr style=\"text-align: right;\">\n",
              "      <th></th>\n",
              "      <th>userID</th>\n",
              "      <th>friendID</th>\n",
              "    </tr>\n",
              "  </thead>\n",
              "  <tbody>\n",
              "    <tr>\n",
              "      <th>0</th>\n",
              "      <td>2</td>\n",
              "      <td>275</td>\n",
              "    </tr>\n",
              "    <tr>\n",
              "      <th>1</th>\n",
              "      <td>2</td>\n",
              "      <td>428</td>\n",
              "    </tr>\n",
              "    <tr>\n",
              "      <th>2</th>\n",
              "      <td>2</td>\n",
              "      <td>515</td>\n",
              "    </tr>\n",
              "    <tr>\n",
              "      <th>3</th>\n",
              "      <td>2</td>\n",
              "      <td>761</td>\n",
              "    </tr>\n",
              "    <tr>\n",
              "      <th>4</th>\n",
              "      <td>2</td>\n",
              "      <td>831</td>\n",
              "    </tr>\n",
              "  </tbody>\n",
              "</table>\n",
              "</div>"
            ],
            "text/plain": [
              "   userID  friendID\n",
              "0       2       275\n",
              "1       2       428\n",
              "2       2       515\n",
              "3       2       761\n",
              "4       2       831"
            ]
          },
          "metadata": {
            "tags": []
          },
          "execution_count": 7
        }
      ]
    },
    {
      "cell_type": "code",
      "metadata": {
        "colab": {
          "base_uri": "https://localhost:8080/",
          "height": 197
        },
        "id": "AD4LANoQgdwB",
        "outputId": "3f4b69fe-a2e2-42b2-b4d1-71e668f9d584"
      },
      "source": [
        "user_taggedartists=pd.read_csv('/content/drive/MyDrive/Colab Notebooks/lastfm/user_taggedartists.dat', sep='\\t')\r\n",
        "user_taggedartists.head()"
      ],
      "execution_count": 8,
      "outputs": [
        {
          "output_type": "execute_result",
          "data": {
            "text/html": [
              "<div>\n",
              "<style scoped>\n",
              "    .dataframe tbody tr th:only-of-type {\n",
              "        vertical-align: middle;\n",
              "    }\n",
              "\n",
              "    .dataframe tbody tr th {\n",
              "        vertical-align: top;\n",
              "    }\n",
              "\n",
              "    .dataframe thead th {\n",
              "        text-align: right;\n",
              "    }\n",
              "</style>\n",
              "<table border=\"1\" class=\"dataframe\">\n",
              "  <thead>\n",
              "    <tr style=\"text-align: right;\">\n",
              "      <th></th>\n",
              "      <th>userID</th>\n",
              "      <th>artistID</th>\n",
              "      <th>tagID</th>\n",
              "      <th>day</th>\n",
              "      <th>month</th>\n",
              "      <th>year</th>\n",
              "    </tr>\n",
              "  </thead>\n",
              "  <tbody>\n",
              "    <tr>\n",
              "      <th>0</th>\n",
              "      <td>2</td>\n",
              "      <td>52</td>\n",
              "      <td>13</td>\n",
              "      <td>1</td>\n",
              "      <td>4</td>\n",
              "      <td>2009</td>\n",
              "    </tr>\n",
              "    <tr>\n",
              "      <th>1</th>\n",
              "      <td>2</td>\n",
              "      <td>52</td>\n",
              "      <td>15</td>\n",
              "      <td>1</td>\n",
              "      <td>4</td>\n",
              "      <td>2009</td>\n",
              "    </tr>\n",
              "    <tr>\n",
              "      <th>2</th>\n",
              "      <td>2</td>\n",
              "      <td>52</td>\n",
              "      <td>18</td>\n",
              "      <td>1</td>\n",
              "      <td>4</td>\n",
              "      <td>2009</td>\n",
              "    </tr>\n",
              "    <tr>\n",
              "      <th>3</th>\n",
              "      <td>2</td>\n",
              "      <td>52</td>\n",
              "      <td>21</td>\n",
              "      <td>1</td>\n",
              "      <td>4</td>\n",
              "      <td>2009</td>\n",
              "    </tr>\n",
              "    <tr>\n",
              "      <th>4</th>\n",
              "      <td>2</td>\n",
              "      <td>52</td>\n",
              "      <td>41</td>\n",
              "      <td>1</td>\n",
              "      <td>4</td>\n",
              "      <td>2009</td>\n",
              "    </tr>\n",
              "  </tbody>\n",
              "</table>\n",
              "</div>"
            ],
            "text/plain": [
              "   userID  artistID  tagID  day  month  year\n",
              "0       2        52     13    1      4  2009\n",
              "1       2        52     15    1      4  2009\n",
              "2       2        52     18    1      4  2009\n",
              "3       2        52     21    1      4  2009\n",
              "4       2        52     41    1      4  2009"
            ]
          },
          "metadata": {
            "tags": []
          },
          "execution_count": 8
        }
      ]
    },
    {
      "cell_type": "markdown",
      "metadata": {
        "id": "HGHagI3jGUvk"
      },
      "source": [
        "## 1 - Análisis Exploratorio de datos"
      ]
    },
    {
      "cell_type": "markdown",
      "metadata": {
        "id": "2OFrE1BzHHFh"
      },
      "source": [
        "¿Cuales fueron los artistas más escuchados?"
      ]
    },
    {
      "cell_type": "code",
      "metadata": {
        "colab": {
          "base_uri": "https://localhost:8080/",
          "height": 377
        },
        "id": "tomafS8yGZU6",
        "outputId": "9d22afb4-840e-4899-c62c-9054b7fe4c9e"
      },
      "source": [
        "top_artist= pd.merge(left=user_artist_plays,right=artist_data, left_on='artistID', right_on='artistID')\r\n",
        "top_artist.groupby(by='name').sum().sort_values(by='weight', ascending=False).head(10)"
      ],
      "execution_count": 8,
      "outputs": [
        {
          "output_type": "execute_result",
          "data": {
            "text/html": [
              "<div>\n",
              "<style scoped>\n",
              "    .dataframe tbody tr th:only-of-type {\n",
              "        vertical-align: middle;\n",
              "    }\n",
              "\n",
              "    .dataframe tbody tr th {\n",
              "        vertical-align: top;\n",
              "    }\n",
              "\n",
              "    .dataframe thead th {\n",
              "        text-align: right;\n",
              "    }\n",
              "</style>\n",
              "<table border=\"1\" class=\"dataframe\">\n",
              "  <thead>\n",
              "    <tr style=\"text-align: right;\">\n",
              "      <th></th>\n",
              "      <th>userID</th>\n",
              "      <th>artistID</th>\n",
              "      <th>weight</th>\n",
              "    </tr>\n",
              "    <tr>\n",
              "      <th>name</th>\n",
              "      <th></th>\n",
              "      <th></th>\n",
              "      <th></th>\n",
              "    </tr>\n",
              "  </thead>\n",
              "  <tbody>\n",
              "    <tr>\n",
              "      <th>Britney Spears</th>\n",
              "      <td>536585</td>\n",
              "      <td>150858</td>\n",
              "      <td>2393140</td>\n",
              "    </tr>\n",
              "    <tr>\n",
              "      <th>Depeche Mode</th>\n",
              "      <td>282739</td>\n",
              "      <td>20304</td>\n",
              "      <td>1301308</td>\n",
              "    </tr>\n",
              "    <tr>\n",
              "      <th>Lady Gaga</th>\n",
              "      <td>621257</td>\n",
              "      <td>54379</td>\n",
              "      <td>1291387</td>\n",
              "    </tr>\n",
              "    <tr>\n",
              "      <th>Christina Aguilera</th>\n",
              "      <td>397259</td>\n",
              "      <td>118844</td>\n",
              "      <td>1058405</td>\n",
              "    </tr>\n",
              "    <tr>\n",
              "      <th>Paramore</th>\n",
              "      <td>416630</td>\n",
              "      <td>198702</td>\n",
              "      <td>963449</td>\n",
              "    </tr>\n",
              "    <tr>\n",
              "      <th>Madonna</th>\n",
              "      <td>424473</td>\n",
              "      <td>28743</td>\n",
              "      <td>921198</td>\n",
              "    </tr>\n",
              "    <tr>\n",
              "      <th>Rihanna</th>\n",
              "      <td>493104</td>\n",
              "      <td>139392</td>\n",
              "      <td>905423</td>\n",
              "    </tr>\n",
              "    <tr>\n",
              "      <th>Shakira</th>\n",
              "      <td>312770</td>\n",
              "      <td>223619</td>\n",
              "      <td>688529</td>\n",
              "    </tr>\n",
              "    <tr>\n",
              "      <th>The Beatles</th>\n",
              "      <td>516563</td>\n",
              "      <td>108960</td>\n",
              "      <td>662116</td>\n",
              "    </tr>\n",
              "    <tr>\n",
              "      <th>Katy Perry</th>\n",
              "      <td>487287</td>\n",
              "      <td>141900</td>\n",
              "      <td>532545</td>\n",
              "    </tr>\n",
              "  </tbody>\n",
              "</table>\n",
              "</div>"
            ],
            "text/plain": [
              "                    userID  artistID   weight\n",
              "name                                         \n",
              "Britney Spears      536585    150858  2393140\n",
              "Depeche Mode        282739     20304  1301308\n",
              "Lady Gaga           621257     54379  1291387\n",
              "Christina Aguilera  397259    118844  1058405\n",
              "Paramore            416630    198702   963449\n",
              "Madonna             424473     28743   921198\n",
              "Rihanna             493104    139392   905423\n",
              "Shakira             312770    223619   688529\n",
              "The Beatles         516563    108960   662116\n",
              "Katy Perry          487287    141900   532545"
            ]
          },
          "metadata": {
            "tags": []
          },
          "execution_count": 8
        }
      ]
    },
    {
      "cell_type": "markdown",
      "metadata": {
        "id": "NBBOC7OZCYpm"
      },
      "source": [
        "La artista más escuchada fue Britney Spears con 2393140 reproducciones. Le siguen Depeche Mode y Lady Gaga con 1301308 y 1291387 reproducciones respectivamente."
      ]
    },
    {
      "cell_type": "markdown",
      "metadata": {
        "id": "08gM9fhdHPUe"
      },
      "source": [
        "¿Como es distribución de cantidad de listens per user?"
      ]
    },
    {
      "cell_type": "code",
      "metadata": {
        "colab": {
          "base_uri": "https://localhost:8080/",
          "height": 377
        },
        "id": "giMTY6COGeia",
        "outputId": "21ba30e5-b8c0-47f9-cc20-41a8f8a07a7e"
      },
      "source": [
        "user_artist_plays.groupby('userID').sum().sort_values('weight', ascending=False).head(10)"
      ],
      "execution_count": 9,
      "outputs": [
        {
          "output_type": "execute_result",
          "data": {
            "text/html": [
              "<div>\n",
              "<style scoped>\n",
              "    .dataframe tbody tr th:only-of-type {\n",
              "        vertical-align: middle;\n",
              "    }\n",
              "\n",
              "    .dataframe tbody tr th {\n",
              "        vertical-align: top;\n",
              "    }\n",
              "\n",
              "    .dataframe thead th {\n",
              "        text-align: right;\n",
              "    }\n",
              "</style>\n",
              "<table border=\"1\" class=\"dataframe\">\n",
              "  <thead>\n",
              "    <tr style=\"text-align: right;\">\n",
              "      <th></th>\n",
              "      <th>artistID</th>\n",
              "      <th>weight</th>\n",
              "    </tr>\n",
              "    <tr>\n",
              "      <th>userID</th>\n",
              "      <th></th>\n",
              "      <th></th>\n",
              "    </tr>\n",
              "  </thead>\n",
              "  <tbody>\n",
              "    <tr>\n",
              "      <th>757</th>\n",
              "      <td>104544</td>\n",
              "      <td>480039</td>\n",
              "    </tr>\n",
              "    <tr>\n",
              "      <th>2000</th>\n",
              "      <td>354767</td>\n",
              "      <td>468409</td>\n",
              "    </tr>\n",
              "    <tr>\n",
              "      <th>1418</th>\n",
              "      <td>224538</td>\n",
              "      <td>416349</td>\n",
              "    </tr>\n",
              "    <tr>\n",
              "      <th>1642</th>\n",
              "      <td>551588</td>\n",
              "      <td>388251</td>\n",
              "    </tr>\n",
              "    <tr>\n",
              "      <th>1094</th>\n",
              "      <td>201719</td>\n",
              "      <td>379125</td>\n",
              "    </tr>\n",
              "    <tr>\n",
              "      <th>1942</th>\n",
              "      <td>373698</td>\n",
              "      <td>348527</td>\n",
              "    </tr>\n",
              "    <tr>\n",
              "      <th>2071</th>\n",
              "      <td>133895</td>\n",
              "      <td>338400</td>\n",
              "    </tr>\n",
              "    <tr>\n",
              "      <th>2031</th>\n",
              "      <td>106389</td>\n",
              "      <td>329980</td>\n",
              "    </tr>\n",
              "    <tr>\n",
              "      <th>514</th>\n",
              "      <td>93246</td>\n",
              "      <td>329782</td>\n",
              "    </tr>\n",
              "    <tr>\n",
              "      <th>387</th>\n",
              "      <td>156500</td>\n",
              "      <td>322661</td>\n",
              "    </tr>\n",
              "  </tbody>\n",
              "</table>\n",
              "</div>"
            ],
            "text/plain": [
              "        artistID  weight\n",
              "userID                  \n",
              "757       104544  480039\n",
              "2000      354767  468409\n",
              "1418      224538  416349\n",
              "1642      551588  388251\n",
              "1094      201719  379125\n",
              "1942      373698  348527\n",
              "2071      133895  338400\n",
              "2031      106389  329980\n",
              "514        93246  329782\n",
              "387       156500  322661"
            ]
          },
          "metadata": {
            "tags": []
          },
          "execution_count": 9
        }
      ]
    },
    {
      "cell_type": "markdown",
      "metadata": {
        "id": "5pGkUO77C10-"
      },
      "source": [
        "El usuario de ID 757 es el que más reproducciones realizo"
      ]
    },
    {
      "cell_type": "markdown",
      "metadata": {
        "id": "05BPW-s0HfkK"
      },
      "source": [
        "¿Es posible ver el género más escuchado?"
      ]
    },
    {
      "cell_type": "code",
      "metadata": {
        "id": "opHO3zUIHl7X",
        "colab": {
          "base_uri": "https://localhost:8080/",
          "height": 347
        },
        "outputId": "c87e96d5-f227-44d9-c4b5-3bc56018f7cc"
      },
      "source": [
        "# Se decidió trabajar con el archivo \"user_taggedartists.dat\"\r\n",
        "df_tags2 = tags.copy()\r\n",
        "tagID_tagValue = df_tags2.set_index('tagID')['tagValue'].to_dict()\r\n",
        "\r\n",
        "serie_top_ranking_tag = user_taggedartists['tagID'].value_counts(ascending=False)\r\n",
        "\r\n",
        "\r\n",
        "df_top_ranking_tag = serie_top_ranking_tag.to_frame()\r\n",
        "df_top_ranking_tag = df_top_ranking_tag.reset_index()\r\n",
        "\r\n",
        "df_top_ranking_tag.columns = ['tagID','total_listened']\r\n",
        "df_top_ranking_tag['tagID'] = df_top_ranking_tag['tagID'].replace(tagID_tagValue)\r\n",
        "df_top_ranking_tag.columns = ['type_of_music','total_listened']\r\n",
        "df_top_ranking_tag.head(10)"
      ],
      "execution_count": 10,
      "outputs": [
        {
          "output_type": "execute_result",
          "data": {
            "text/html": [
              "<div>\n",
              "<style scoped>\n",
              "    .dataframe tbody tr th:only-of-type {\n",
              "        vertical-align: middle;\n",
              "    }\n",
              "\n",
              "    .dataframe tbody tr th {\n",
              "        vertical-align: top;\n",
              "    }\n",
              "\n",
              "    .dataframe thead th {\n",
              "        text-align: right;\n",
              "    }\n",
              "</style>\n",
              "<table border=\"1\" class=\"dataframe\">\n",
              "  <thead>\n",
              "    <tr style=\"text-align: right;\">\n",
              "      <th></th>\n",
              "      <th>type_of_music</th>\n",
              "      <th>total_listened</th>\n",
              "    </tr>\n",
              "  </thead>\n",
              "  <tbody>\n",
              "    <tr>\n",
              "      <th>0</th>\n",
              "      <td>rock</td>\n",
              "      <td>7503</td>\n",
              "    </tr>\n",
              "    <tr>\n",
              "      <th>1</th>\n",
              "      <td>pop</td>\n",
              "      <td>5418</td>\n",
              "    </tr>\n",
              "    <tr>\n",
              "      <th>2</th>\n",
              "      <td>alternative</td>\n",
              "      <td>5251</td>\n",
              "    </tr>\n",
              "    <tr>\n",
              "      <th>3</th>\n",
              "      <td>electronic</td>\n",
              "      <td>4672</td>\n",
              "    </tr>\n",
              "    <tr>\n",
              "      <th>4</th>\n",
              "      <td>indie</td>\n",
              "      <td>4458</td>\n",
              "    </tr>\n",
              "    <tr>\n",
              "      <th>5</th>\n",
              "      <td>female vocalists</td>\n",
              "      <td>4228</td>\n",
              "    </tr>\n",
              "    <tr>\n",
              "      <th>6</th>\n",
              "      <td>80s</td>\n",
              "      <td>2791</td>\n",
              "    </tr>\n",
              "    <tr>\n",
              "      <th>7</th>\n",
              "      <td>dance</td>\n",
              "      <td>2739</td>\n",
              "    </tr>\n",
              "    <tr>\n",
              "      <th>8</th>\n",
              "      <td>alternative rock</td>\n",
              "      <td>2631</td>\n",
              "    </tr>\n",
              "    <tr>\n",
              "      <th>9</th>\n",
              "      <td>classic rock</td>\n",
              "      <td>2287</td>\n",
              "    </tr>\n",
              "  </tbody>\n",
              "</table>\n",
              "</div>"
            ],
            "text/plain": [
              "      type_of_music  total_listened\n",
              "0              rock            7503\n",
              "1               pop            5418\n",
              "2       alternative            5251\n",
              "3        electronic            4672\n",
              "4             indie            4458\n",
              "5  female vocalists            4228\n",
              "6               80s            2791\n",
              "7             dance            2739\n",
              "8  alternative rock            2631\n",
              "9      classic rock            2287"
            ]
          },
          "metadata": {
            "tags": []
          },
          "execution_count": 10
        }
      ]
    },
    {
      "cell_type": "markdown",
      "metadata": {
        "id": "qudgfgttg4KQ"
      },
      "source": [
        "## 2 Sistema de Recomendación"
      ]
    },
    {
      "cell_type": "markdown",
      "metadata": {
        "id": "KyzXQryBICD-"
      },
      "source": [
        "##2A Filtrado colaborativo"
      ]
    },
    {
      "cell_type": "code",
      "metadata": {
        "id": "VM7aiyai6Fqa"
      },
      "source": [
        "# convertimos la columna weight a float\r\n",
        "user_artist_plays['weight']=user_artist_plays['weight'].astype(float)"
      ],
      "execution_count": 11,
      "outputs": []
    },
    {
      "cell_type": "code",
      "metadata": {
        "colab": {
          "base_uri": "https://localhost:8080/"
        },
        "id": "W-aBmPd_7PZG",
        "outputId": "725f9b06-db71-4e57-c149-99e03478dc0b"
      },
      "source": [
        "user_artist_plays.dtypes"
      ],
      "execution_count": 12,
      "outputs": [
        {
          "output_type": "execute_result",
          "data": {
            "text/plain": [
              "userID        int64\n",
              "artistID      int64\n",
              "weight      float64\n",
              "dtype: object"
            ]
          },
          "metadata": {
            "tags": []
          },
          "execution_count": 12
        }
      ]
    },
    {
      "cell_type": "code",
      "metadata": {
        "colab": {
          "base_uri": "https://localhost:8080/",
          "height": 197
        },
        "id": "JHkhC8-Mgd4C",
        "outputId": "9534470e-24c5-4015-b431-b4c37243d166"
      },
      "source": [
        "#normalización de los datos\r\n",
        "user_artist_plays['weight_scaled']=(user_artist_plays['weight']-user_artist_plays['weight'].mean()) /user_artist_plays['weight'].std()\r\n",
        "user_plays=  user_artist_plays.drop('weight', 1)\r\n",
        "user_plays.head()"
      ],
      "execution_count": 12,
      "outputs": [
        {
          "output_type": "execute_result",
          "data": {
            "text/html": [
              "<div>\n",
              "<style scoped>\n",
              "    .dataframe tbody tr th:only-of-type {\n",
              "        vertical-align: middle;\n",
              "    }\n",
              "\n",
              "    .dataframe tbody tr th {\n",
              "        vertical-align: top;\n",
              "    }\n",
              "\n",
              "    .dataframe thead th {\n",
              "        text-align: right;\n",
              "    }\n",
              "</style>\n",
              "<table border=\"1\" class=\"dataframe\">\n",
              "  <thead>\n",
              "    <tr style=\"text-align: right;\">\n",
              "      <th></th>\n",
              "      <th>userID</th>\n",
              "      <th>artistID</th>\n",
              "      <th>weight_scaled</th>\n",
              "    </tr>\n",
              "  </thead>\n",
              "  <tbody>\n",
              "    <tr>\n",
              "      <th>0</th>\n",
              "      <td>2</td>\n",
              "      <td>51</td>\n",
              "      <td>3.502167</td>\n",
              "    </tr>\n",
              "    <tr>\n",
              "      <th>1</th>\n",
              "      <td>2</td>\n",
              "      <td>52</td>\n",
              "      <td>2.917573</td>\n",
              "    </tr>\n",
              "    <tr>\n",
              "      <th>2</th>\n",
              "      <td>2</td>\n",
              "      <td>53</td>\n",
              "      <td>2.827205</td>\n",
              "    </tr>\n",
              "    <tr>\n",
              "      <th>3</th>\n",
              "      <td>2</td>\n",
              "      <td>54</td>\n",
              "      <td>2.547037</td>\n",
              "    </tr>\n",
              "    <tr>\n",
              "      <th>4</th>\n",
              "      <td>2</td>\n",
              "      <td>55</td>\n",
              "      <td>2.195961</td>\n",
              "    </tr>\n",
              "  </tbody>\n",
              "</table>\n",
              "</div>"
            ],
            "text/plain": [
              "   userID  artistID  weight_scaled\n",
              "0       2        51       3.502167\n",
              "1       2        52       2.917573\n",
              "2       2        53       2.827205\n",
              "3       2        54       2.547037\n",
              "4       2        55       2.195961"
            ]
          },
          "metadata": {
            "tags": []
          },
          "execution_count": 12
        }
      ]
    },
    {
      "cell_type": "code",
      "metadata": {
        "colab": {
          "base_uri": "https://localhost:8080/"
        },
        "id": "geF0AzeQu5BM",
        "outputId": "2eb8258a-0e38-4c4d-cb38-1ef770b8d84d"
      },
      "source": [
        "len(user_plays)"
      ],
      "execution_count": 13,
      "outputs": [
        {
          "output_type": "execute_result",
          "data": {
            "text/plain": [
              "92834"
            ]
          },
          "metadata": {
            "tags": []
          },
          "execution_count": 13
        }
      ]
    },
    {
      "cell_type": "code",
      "metadata": {
        "colab": {
          "base_uri": "https://localhost:8080/"
        },
        "id": "La90jalsgeBP",
        "outputId": "7ca3eab3-b136-4e20-f2c0-eda07a99d0b8"
      },
      "source": [
        "user_plays.weight_scaled.describe()"
      ],
      "execution_count": 14,
      "outputs": [
        {
          "output_type": "execute_result",
          "data": {
            "text/plain": [
              "count    9.283400e+04\n",
              "mean    -1.496697e-17\n",
              "std      1.000000e+00\n",
              "min     -1.983951e-01\n",
              "25%     -1.701384e-01\n",
              "50%     -1.293528e-01\n",
              "75%     -3.498605e-02\n",
              "max      9.382099e+01\n",
              "Name: weight_scaled, dtype: float64"
            ]
          },
          "metadata": {
            "tags": []
          },
          "execution_count": 14
        }
      ]
    },
    {
      "cell_type": "code",
      "metadata": {
        "id": "_8ycSTq-rL5x"
      },
      "source": [
        "#eliminamos los usuarios con num_raitings menor a 5\r\n",
        "min_ratings=5\r\n",
        "grouped_df=user_plays.groupby('artistID', as_index=False).count().iloc[:,lambda df: [0,2]].sort_values('weight_scaled', ascending=False)\r\n",
        "grouped_df= grouped_df.loc[grouped_df['weight_scaled'] >= min_ratings]\r\n",
        "grouped_df.columns=['artistID', 'num_raitings']\r\n",
        "filtered_df=user_plays.merge(grouped_df, how='inner', on = 'artistID') #datos filtrados"
      ],
      "execution_count": 15,
      "outputs": []
    },
    {
      "cell_type": "code",
      "metadata": {
        "colab": {
          "base_uri": "https://localhost:8080/",
          "height": 406
        },
        "id": "tkK2Uc_0txUw",
        "outputId": "178e0095-e351-4332-cdab-996ecab878e2"
      },
      "source": [
        "filtered_df"
      ],
      "execution_count": 16,
      "outputs": [
        {
          "output_type": "execute_result",
          "data": {
            "text/html": [
              "<div>\n",
              "<style scoped>\n",
              "    .dataframe tbody tr th:only-of-type {\n",
              "        vertical-align: middle;\n",
              "    }\n",
              "\n",
              "    .dataframe tbody tr th {\n",
              "        vertical-align: top;\n",
              "    }\n",
              "\n",
              "    .dataframe thead th {\n",
              "        text-align: right;\n",
              "    }\n",
              "</style>\n",
              "<table border=\"1\" class=\"dataframe\">\n",
              "  <thead>\n",
              "    <tr style=\"text-align: right;\">\n",
              "      <th></th>\n",
              "      <th>userID</th>\n",
              "      <th>artistID</th>\n",
              "      <th>weight_scaled</th>\n",
              "      <th>num_raitings</th>\n",
              "    </tr>\n",
              "  </thead>\n",
              "  <tbody>\n",
              "    <tr>\n",
              "      <th>0</th>\n",
              "      <td>2</td>\n",
              "      <td>51</td>\n",
              "      <td>3.502167</td>\n",
              "      <td>111</td>\n",
              "    </tr>\n",
              "    <tr>\n",
              "      <th>1</th>\n",
              "      <td>4</td>\n",
              "      <td>51</td>\n",
              "      <td>-0.137883</td>\n",
              "      <td>111</td>\n",
              "    </tr>\n",
              "    <tr>\n",
              "      <th>2</th>\n",
              "      <td>27</td>\n",
              "      <td>51</td>\n",
              "      <td>-0.176003</td>\n",
              "      <td>111</td>\n",
              "    </tr>\n",
              "    <tr>\n",
              "      <th>3</th>\n",
              "      <td>28</td>\n",
              "      <td>51</td>\n",
              "      <td>-0.195996</td>\n",
              "      <td>111</td>\n",
              "    </tr>\n",
              "    <tr>\n",
              "      <th>4</th>\n",
              "      <td>62</td>\n",
              "      <td>51</td>\n",
              "      <td>-0.057911</td>\n",
              "      <td>111</td>\n",
              "    </tr>\n",
              "    <tr>\n",
              "      <th>...</th>\n",
              "      <td>...</td>\n",
              "      <td>...</td>\n",
              "      <td>...</td>\n",
              "      <td>...</td>\n",
              "    </tr>\n",
              "    <tr>\n",
              "      <th>71421</th>\n",
              "      <td>1479</td>\n",
              "      <td>14692</td>\n",
              "      <td>-0.108294</td>\n",
              "      <td>6</td>\n",
              "    </tr>\n",
              "    <tr>\n",
              "      <th>71422</th>\n",
              "      <td>1737</td>\n",
              "      <td>14692</td>\n",
              "      <td>-0.124821</td>\n",
              "      <td>6</td>\n",
              "    </tr>\n",
              "    <tr>\n",
              "      <th>71423</th>\n",
              "      <td>1759</td>\n",
              "      <td>14692</td>\n",
              "      <td>0.072443</td>\n",
              "      <td>6</td>\n",
              "    </tr>\n",
              "    <tr>\n",
              "      <th>71424</th>\n",
              "      <td>1890</td>\n",
              "      <td>14692</td>\n",
              "      <td>-0.159475</td>\n",
              "      <td>6</td>\n",
              "    </tr>\n",
              "    <tr>\n",
              "      <th>71425</th>\n",
              "      <td>2007</td>\n",
              "      <td>14692</td>\n",
              "      <td>0.207595</td>\n",
              "      <td>6</td>\n",
              "    </tr>\n",
              "  </tbody>\n",
              "</table>\n",
              "<p>71426 rows × 4 columns</p>\n",
              "</div>"
            ],
            "text/plain": [
              "       userID  artistID  weight_scaled  num_raitings\n",
              "0           2        51       3.502167           111\n",
              "1           4        51      -0.137883           111\n",
              "2          27        51      -0.176003           111\n",
              "3          28        51      -0.195996           111\n",
              "4          62        51      -0.057911           111\n",
              "...       ...       ...            ...           ...\n",
              "71421    1479     14692      -0.108294             6\n",
              "71422    1737     14692      -0.124821             6\n",
              "71423    1759     14692       0.072443             6\n",
              "71424    1890     14692      -0.159475             6\n",
              "71425    2007     14692       0.207595             6\n",
              "\n",
              "[71426 rows x 4 columns]"
            ]
          },
          "metadata": {
            "tags": []
          },
          "execution_count": 16
        }
      ]
    },
    {
      "cell_type": "code",
      "metadata": {
        "colab": {
          "base_uri": "https://localhost:8080/",
          "height": 287
        },
        "id": "lXLPY01_iF7z",
        "outputId": "fd875588-0a99-4a5a-cb0c-71b339e34735"
      },
      "source": [
        "filtered_df.describe()"
      ],
      "execution_count": 17,
      "outputs": [
        {
          "output_type": "execute_result",
          "data": {
            "text/html": [
              "<div>\n",
              "<style scoped>\n",
              "    .dataframe tbody tr th:only-of-type {\n",
              "        vertical-align: middle;\n",
              "    }\n",
              "\n",
              "    .dataframe tbody tr th {\n",
              "        vertical-align: top;\n",
              "    }\n",
              "\n",
              "    .dataframe thead th {\n",
              "        text-align: right;\n",
              "    }\n",
              "</style>\n",
              "<table border=\"1\" class=\"dataframe\">\n",
              "  <thead>\n",
              "    <tr style=\"text-align: right;\">\n",
              "      <th></th>\n",
              "      <th>userID</th>\n",
              "      <th>artistID</th>\n",
              "      <th>weight_scaled</th>\n",
              "      <th>num_raitings</th>\n",
              "    </tr>\n",
              "  </thead>\n",
              "  <tbody>\n",
              "    <tr>\n",
              "      <th>count</th>\n",
              "      <td>71426.000000</td>\n",
              "      <td>71426.000000</td>\n",
              "      <td>71426.000000</td>\n",
              "      <td>71426.000000</td>\n",
              "    </tr>\n",
              "    <tr>\n",
              "      <th>mean</th>\n",
              "      <td>1032.297861</td>\n",
              "      <td>1527.646627</td>\n",
              "      <td>0.026171</td>\n",
              "      <td>111.226640</td>\n",
              "    </tr>\n",
              "    <tr>\n",
              "      <th>std</th>\n",
              "      <td>609.305190</td>\n",
              "      <td>1878.657582</td>\n",
              "      <td>1.130231</td>\n",
              "      <td>130.262313</td>\n",
              "    </tr>\n",
              "    <tr>\n",
              "      <th>min</th>\n",
              "      <td>2.000000</td>\n",
              "      <td>2.000000</td>\n",
              "      <td>-0.198395</td>\n",
              "      <td>5.000000</td>\n",
              "    </tr>\n",
              "    <tr>\n",
              "      <th>25%</th>\n",
              "      <td>498.000000</td>\n",
              "      <td>321.000000</td>\n",
              "      <td>-0.166673</td>\n",
              "      <td>19.000000</td>\n",
              "    </tr>\n",
              "    <tr>\n",
              "      <th>50%</th>\n",
              "      <td>1024.000000</td>\n",
              "      <td>808.000000</td>\n",
              "      <td>-0.122155</td>\n",
              "      <td>60.000000</td>\n",
              "    </tr>\n",
              "    <tr>\n",
              "      <th>75%</th>\n",
              "      <td>1559.000000</td>\n",
              "      <td>1936.750000</td>\n",
              "      <td>-0.017392</td>\n",
              "      <td>150.000000</td>\n",
              "    </tr>\n",
              "    <tr>\n",
              "      <th>max</th>\n",
              "      <td>2100.000000</td>\n",
              "      <td>14692.000000</td>\n",
              "      <td>93.820991</td>\n",
              "      <td>611.000000</td>\n",
              "    </tr>\n",
              "  </tbody>\n",
              "</table>\n",
              "</div>"
            ],
            "text/plain": [
              "             userID      artistID  weight_scaled  num_raitings\n",
              "count  71426.000000  71426.000000   71426.000000  71426.000000\n",
              "mean    1032.297861   1527.646627       0.026171    111.226640\n",
              "std      609.305190   1878.657582       1.130231    130.262313\n",
              "min        2.000000      2.000000      -0.198395      5.000000\n",
              "25%      498.000000    321.000000      -0.166673     19.000000\n",
              "50%     1024.000000    808.000000      -0.122155     60.000000\n",
              "75%     1559.000000   1936.750000      -0.017392    150.000000\n",
              "max     2100.000000  14692.000000      93.820991    611.000000"
            ]
          },
          "metadata": {
            "tags": []
          },
          "execution_count": 17
        }
      ]
    },
    {
      "cell_type": "code",
      "metadata": {
        "id": "0mDpAjY_naw8"
      },
      "source": [
        "filtered_df=filtered_df.fillna(value=0)"
      ],
      "execution_count": 18,
      "outputs": []
    },
    {
      "cell_type": "code",
      "metadata": {
        "colab": {
          "base_uri": "https://localhost:8080/",
          "height": 197
        },
        "id": "qswKfKRrhN23",
        "outputId": "d054b518-75cd-4a58-94e8-80dd320b2bd0"
      },
      "source": [
        "combined_data= pd.merge(left=filtered_df,right=artist_data, left_on='artistID', right_on='artistID')\r\n",
        "combined_data=combined_data.drop(['url','pictureURL'],axis= 1)\r\n",
        "combined_data.sample(5)"
      ],
      "execution_count": 19,
      "outputs": [
        {
          "output_type": "execute_result",
          "data": {
            "text/html": [
              "<div>\n",
              "<style scoped>\n",
              "    .dataframe tbody tr th:only-of-type {\n",
              "        vertical-align: middle;\n",
              "    }\n",
              "\n",
              "    .dataframe tbody tr th {\n",
              "        vertical-align: top;\n",
              "    }\n",
              "\n",
              "    .dataframe thead th {\n",
              "        text-align: right;\n",
              "    }\n",
              "</style>\n",
              "<table border=\"1\" class=\"dataframe\">\n",
              "  <thead>\n",
              "    <tr style=\"text-align: right;\">\n",
              "      <th></th>\n",
              "      <th>userID</th>\n",
              "      <th>artistID</th>\n",
              "      <th>weight_scaled</th>\n",
              "      <th>num_raitings</th>\n",
              "      <th>name</th>\n",
              "    </tr>\n",
              "  </thead>\n",
              "  <tbody>\n",
              "    <tr>\n",
              "      <th>57397</th>\n",
              "      <td>96</td>\n",
              "      <td>2552</td>\n",
              "      <td>-0.189065</td>\n",
              "      <td>10</td>\n",
              "      <td>Culture Club</td>\n",
              "    </tr>\n",
              "    <tr>\n",
              "      <th>36759</th>\n",
              "      <td>635</td>\n",
              "      <td>868</td>\n",
              "      <td>-0.182667</td>\n",
              "      <td>139</td>\n",
              "      <td>The Doors</td>\n",
              "    </tr>\n",
              "    <tr>\n",
              "      <th>41583</th>\n",
              "      <td>1360</td>\n",
              "      <td>1048</td>\n",
              "      <td>-0.161875</td>\n",
              "      <td>130</td>\n",
              "      <td>The Kooks</td>\n",
              "    </tr>\n",
              "    <tr>\n",
              "      <th>21842</th>\n",
              "      <td>1656</td>\n",
              "      <td>425</td>\n",
              "      <td>-0.108827</td>\n",
              "      <td>128</td>\n",
              "      <td>Yeah Yeah Yeahs</td>\n",
              "    </tr>\n",
              "    <tr>\n",
              "      <th>60123</th>\n",
              "      <td>1329</td>\n",
              "      <td>3003</td>\n",
              "      <td>-0.144547</td>\n",
              "      <td>6</td>\n",
              "      <td>Duke Ellington</td>\n",
              "    </tr>\n",
              "  </tbody>\n",
              "</table>\n",
              "</div>"
            ],
            "text/plain": [
              "       userID  artistID  weight_scaled  num_raitings             name\n",
              "57397      96      2552      -0.189065            10     Culture Club\n",
              "36759     635       868      -0.182667           139        The Doors\n",
              "41583    1360      1048      -0.161875           130        The Kooks\n",
              "21842    1656       425      -0.108827           128  Yeah Yeah Yeahs\n",
              "60123    1329      3003      -0.144547             6   Duke Ellington"
            ]
          },
          "metadata": {
            "tags": []
          },
          "execution_count": 19
        }
      ]
    },
    {
      "cell_type": "code",
      "metadata": {
        "colab": {
          "base_uri": "https://localhost:8080/"
        },
        "id": "Gv-z-uX6lP_3",
        "outputId": "a67d9da0-8405-412d-bc80-8992321fe8d1"
      },
      "source": [
        "combined_data.weight_scaled.isnull().values.any()"
      ],
      "execution_count": 20,
      "outputs": [
        {
          "output_type": "execute_result",
          "data": {
            "text/plain": [
              "False"
            ]
          },
          "metadata": {
            "tags": []
          },
          "execution_count": 20
        }
      ]
    },
    {
      "cell_type": "code",
      "metadata": {
        "colab": {
          "base_uri": "https://localhost:8080/",
          "height": 410
        },
        "id": "BRZkdNV1hOFs",
        "outputId": "de71df4f-ae41-4637-fb1b-3b87189c9963"
      },
      "source": [
        "#aqui se arma la matriz usuario contenido\r\n",
        "rating_crosstab = combined_data.pivot_table(values='weight_scaled', index='userID', columns='name', fill_value=0)\r\n",
        "rating_crosstab.head()"
      ],
      "execution_count": 21,
      "outputs": [
        {
          "output_type": "execute_result",
          "data": {
            "text/html": [
              "<div>\n",
              "<style scoped>\n",
              "    .dataframe tbody tr th:only-of-type {\n",
              "        vertical-align: middle;\n",
              "    }\n",
              "\n",
              "    .dataframe tbody tr th {\n",
              "        vertical-align: top;\n",
              "    }\n",
              "\n",
              "    .dataframe thead th {\n",
              "        text-align: right;\n",
              "    }\n",
              "</style>\n",
              "<table border=\"1\" class=\"dataframe\">\n",
              "  <thead>\n",
              "    <tr style=\"text-align: right;\">\n",
              "      <th>name</th>\n",
              "      <th>#####</th>\n",
              "      <th>(hed) Planet Earth</th>\n",
              "      <th>*NSYNC</th>\n",
              "      <th>+44</th>\n",
              "      <th>...And You Will Know Us by the Trail of Dead</th>\n",
              "      <th>10cc</th>\n",
              "      <th>12 Stones</th>\n",
              "      <th>2H Company</th>\n",
              "      <th>2NE1</th>\n",
              "      <th>2PM</th>\n",
              "      <th>2Pac</th>\n",
              "      <th>2ois</th>\n",
              "      <th>3 Doors Down</th>\n",
              "      <th>30 Seconds to Mars</th>\n",
              "      <th>311</th>\n",
              "      <th>36 Crazyfists</th>\n",
              "      <th>3OH!3</th>\n",
              "      <th>4minute</th>\n",
              "      <th>5'nizza</th>\n",
              "      <th>50 Cent</th>\n",
              "      <th>65daysofstatic</th>\n",
              "      <th>7раса</th>\n",
              "      <th>808 State</th>\n",
              "      <th>8mm</th>\n",
              "      <th>:wumpscut:</th>\n",
              "      <th>A Day to Remember</th>\n",
              "      <th>A Fine Frenzy</th>\n",
              "      <th>A Flock of Seagulls</th>\n",
              "      <th>A Perfect Circle</th>\n",
              "      <th>A Rocket to the Moon</th>\n",
              "      <th>A Silver Mt. Zion</th>\n",
              "      <th>A Skylit Drive</th>\n",
              "      <th>A Static Lullaby</th>\n",
              "      <th>A Tribe Called Quest</th>\n",
              "      <th>A Wilhelm Scream</th>\n",
              "      <th>A*Teens</th>\n",
              "      <th>ABBA</th>\n",
              "      <th>ABC</th>\n",
              "      <th>AC/DC</th>\n",
              "      <th>AFI</th>\n",
              "      <th>...</th>\n",
              "      <th>Ляпис Трубецкой</th>\n",
              "      <th>Мои Ракеты Вверх</th>\n",
              "      <th>Мумий Тролль</th>\n",
              "      <th>Ногу Свело!</th>\n",
              "      <th>Ночные Снайперы</th>\n",
              "      <th>Океан Ельзи</th>\n",
              "      <th>П.Т.В.П.</th>\n",
              "      <th>Пикник</th>\n",
              "      <th>Пилот</th>\n",
              "      <th>Психея</th>\n",
              "      <th>Сергей Лазарев</th>\n",
              "      <th>Слот</th>\n",
              "      <th>Сплин</th>\n",
              "      <th>いきものがかり</th>\n",
              "      <th>アンティック-珈琲店-</th>\n",
              "      <th>ギルガメッシュ</th>\n",
              "      <th>ルルティア</th>\n",
              "      <th>下村陽子</th>\n",
              "      <th>中島美嘉</th>\n",
              "      <th>久石譲</th>\n",
              "      <th>倖田來未</th>\n",
              "      <th>坂本龍一</th>\n",
              "      <th>大塚愛</th>\n",
              "      <th>宇多田ヒカル</th>\n",
              "      <th>安室奈美恵</th>\n",
              "      <th>嵐</th>\n",
              "      <th>平沢進</th>\n",
              "      <th>梶浦由記</th>\n",
              "      <th>植松伸夫</th>\n",
              "      <th>椎名林檎</th>\n",
              "      <th>浜崎あゆみ</th>\n",
              "      <th>浜渦正志</th>\n",
              "      <th>菅野よう子</th>\n",
              "      <th>譚盾</th>\n",
              "      <th>近藤浩治</th>\n",
              "      <th>雅-MIYAVI-</th>\n",
              "      <th>鬼束ちひろ</th>\n",
              "      <th>동방신기</th>\n",
              "      <th>소녀시대</th>\n",
              "      <th>티아라</th>\n",
              "    </tr>\n",
              "    <tr>\n",
              "      <th>userID</th>\n",
              "      <th></th>\n",
              "      <th></th>\n",
              "      <th></th>\n",
              "      <th></th>\n",
              "      <th></th>\n",
              "      <th></th>\n",
              "      <th></th>\n",
              "      <th></th>\n",
              "      <th></th>\n",
              "      <th></th>\n",
              "      <th></th>\n",
              "      <th></th>\n",
              "      <th></th>\n",
              "      <th></th>\n",
              "      <th></th>\n",
              "      <th></th>\n",
              "      <th></th>\n",
              "      <th></th>\n",
              "      <th></th>\n",
              "      <th></th>\n",
              "      <th></th>\n",
              "      <th></th>\n",
              "      <th></th>\n",
              "      <th></th>\n",
              "      <th></th>\n",
              "      <th></th>\n",
              "      <th></th>\n",
              "      <th></th>\n",
              "      <th></th>\n",
              "      <th></th>\n",
              "      <th></th>\n",
              "      <th></th>\n",
              "      <th></th>\n",
              "      <th></th>\n",
              "      <th></th>\n",
              "      <th></th>\n",
              "      <th></th>\n",
              "      <th></th>\n",
              "      <th></th>\n",
              "      <th></th>\n",
              "      <th></th>\n",
              "      <th></th>\n",
              "      <th></th>\n",
              "      <th></th>\n",
              "      <th></th>\n",
              "      <th></th>\n",
              "      <th></th>\n",
              "      <th></th>\n",
              "      <th></th>\n",
              "      <th></th>\n",
              "      <th></th>\n",
              "      <th></th>\n",
              "      <th></th>\n",
              "      <th></th>\n",
              "      <th></th>\n",
              "      <th></th>\n",
              "      <th></th>\n",
              "      <th></th>\n",
              "      <th></th>\n",
              "      <th></th>\n",
              "      <th></th>\n",
              "      <th></th>\n",
              "      <th></th>\n",
              "      <th></th>\n",
              "      <th></th>\n",
              "      <th></th>\n",
              "      <th></th>\n",
              "      <th></th>\n",
              "      <th></th>\n",
              "      <th></th>\n",
              "      <th></th>\n",
              "      <th></th>\n",
              "      <th></th>\n",
              "      <th></th>\n",
              "      <th></th>\n",
              "      <th></th>\n",
              "      <th></th>\n",
              "      <th></th>\n",
              "      <th></th>\n",
              "      <th></th>\n",
              "      <th></th>\n",
              "    </tr>\n",
              "  </thead>\n",
              "  <tbody>\n",
              "    <tr>\n",
              "      <th>2</th>\n",
              "      <td>0.0</td>\n",
              "      <td>0.0</td>\n",
              "      <td>0.0</td>\n",
              "      <td>0.0</td>\n",
              "      <td>0.0</td>\n",
              "      <td>0.0</td>\n",
              "      <td>0.0</td>\n",
              "      <td>0.0</td>\n",
              "      <td>0.0</td>\n",
              "      <td>0.0</td>\n",
              "      <td>0.00000</td>\n",
              "      <td>0.0</td>\n",
              "      <td>0.0</td>\n",
              "      <td>0.0</td>\n",
              "      <td>0.0</td>\n",
              "      <td>0.0</td>\n",
              "      <td>0.0</td>\n",
              "      <td>0.0</td>\n",
              "      <td>0.0</td>\n",
              "      <td>0.0</td>\n",
              "      <td>0.0</td>\n",
              "      <td>0.0</td>\n",
              "      <td>0.0</td>\n",
              "      <td>0.0</td>\n",
              "      <td>0.0</td>\n",
              "      <td>0.0</td>\n",
              "      <td>0.0</td>\n",
              "      <td>0.0</td>\n",
              "      <td>0.0</td>\n",
              "      <td>0.0</td>\n",
              "      <td>0.0</td>\n",
              "      <td>0.0</td>\n",
              "      <td>0.0</td>\n",
              "      <td>0.0</td>\n",
              "      <td>0.0</td>\n",
              "      <td>0.0</td>\n",
              "      <td>0.0</td>\n",
              "      <td>0.151881</td>\n",
              "      <td>0.0</td>\n",
              "      <td>0.0</td>\n",
              "      <td>...</td>\n",
              "      <td>0.0</td>\n",
              "      <td>0.0</td>\n",
              "      <td>0.0</td>\n",
              "      <td>0.0</td>\n",
              "      <td>0.0</td>\n",
              "      <td>0.0</td>\n",
              "      <td>0.0</td>\n",
              "      <td>0.0</td>\n",
              "      <td>0.0</td>\n",
              "      <td>0.0</td>\n",
              "      <td>0.0</td>\n",
              "      <td>0.0</td>\n",
              "      <td>0.0</td>\n",
              "      <td>0.0</td>\n",
              "      <td>0.0</td>\n",
              "      <td>0.0</td>\n",
              "      <td>0.0</td>\n",
              "      <td>0.0</td>\n",
              "      <td>0.0</td>\n",
              "      <td>0.0</td>\n",
              "      <td>0.0</td>\n",
              "      <td>0.0</td>\n",
              "      <td>0.0</td>\n",
              "      <td>0.0</td>\n",
              "      <td>0.0</td>\n",
              "      <td>0.0</td>\n",
              "      <td>0.0</td>\n",
              "      <td>0.0</td>\n",
              "      <td>0.0</td>\n",
              "      <td>0.0</td>\n",
              "      <td>0.0</td>\n",
              "      <td>0.0</td>\n",
              "      <td>0.0</td>\n",
              "      <td>0.0</td>\n",
              "      <td>0.0</td>\n",
              "      <td>0.0</td>\n",
              "      <td>0.0</td>\n",
              "      <td>0.0</td>\n",
              "      <td>0.0</td>\n",
              "      <td>0.0</td>\n",
              "    </tr>\n",
              "    <tr>\n",
              "      <th>3</th>\n",
              "      <td>0.0</td>\n",
              "      <td>0.0</td>\n",
              "      <td>0.0</td>\n",
              "      <td>0.0</td>\n",
              "      <td>0.0</td>\n",
              "      <td>0.0</td>\n",
              "      <td>0.0</td>\n",
              "      <td>0.0</td>\n",
              "      <td>0.0</td>\n",
              "      <td>0.0</td>\n",
              "      <td>0.00000</td>\n",
              "      <td>0.0</td>\n",
              "      <td>0.0</td>\n",
              "      <td>0.0</td>\n",
              "      <td>0.0</td>\n",
              "      <td>0.0</td>\n",
              "      <td>0.0</td>\n",
              "      <td>0.0</td>\n",
              "      <td>0.0</td>\n",
              "      <td>0.0</td>\n",
              "      <td>0.0</td>\n",
              "      <td>0.0</td>\n",
              "      <td>0.0</td>\n",
              "      <td>0.0</td>\n",
              "      <td>0.0</td>\n",
              "      <td>0.0</td>\n",
              "      <td>0.0</td>\n",
              "      <td>0.0</td>\n",
              "      <td>0.0</td>\n",
              "      <td>0.0</td>\n",
              "      <td>0.0</td>\n",
              "      <td>0.0</td>\n",
              "      <td>0.0</td>\n",
              "      <td>0.0</td>\n",
              "      <td>0.0</td>\n",
              "      <td>0.0</td>\n",
              "      <td>0.0</td>\n",
              "      <td>0.000000</td>\n",
              "      <td>0.0</td>\n",
              "      <td>0.0</td>\n",
              "      <td>...</td>\n",
              "      <td>0.0</td>\n",
              "      <td>0.0</td>\n",
              "      <td>0.0</td>\n",
              "      <td>0.0</td>\n",
              "      <td>0.0</td>\n",
              "      <td>0.0</td>\n",
              "      <td>0.0</td>\n",
              "      <td>0.0</td>\n",
              "      <td>0.0</td>\n",
              "      <td>0.0</td>\n",
              "      <td>0.0</td>\n",
              "      <td>0.0</td>\n",
              "      <td>0.0</td>\n",
              "      <td>0.0</td>\n",
              "      <td>0.0</td>\n",
              "      <td>0.0</td>\n",
              "      <td>0.0</td>\n",
              "      <td>0.0</td>\n",
              "      <td>0.0</td>\n",
              "      <td>0.0</td>\n",
              "      <td>0.0</td>\n",
              "      <td>0.0</td>\n",
              "      <td>0.0</td>\n",
              "      <td>0.0</td>\n",
              "      <td>0.0</td>\n",
              "      <td>0.0</td>\n",
              "      <td>0.0</td>\n",
              "      <td>0.0</td>\n",
              "      <td>0.0</td>\n",
              "      <td>0.0</td>\n",
              "      <td>0.0</td>\n",
              "      <td>0.0</td>\n",
              "      <td>0.0</td>\n",
              "      <td>0.0</td>\n",
              "      <td>0.0</td>\n",
              "      <td>0.0</td>\n",
              "      <td>0.0</td>\n",
              "      <td>0.0</td>\n",
              "      <td>0.0</td>\n",
              "      <td>0.0</td>\n",
              "    </tr>\n",
              "    <tr>\n",
              "      <th>4</th>\n",
              "      <td>0.0</td>\n",
              "      <td>0.0</td>\n",
              "      <td>0.0</td>\n",
              "      <td>0.0</td>\n",
              "      <td>0.0</td>\n",
              "      <td>0.0</td>\n",
              "      <td>0.0</td>\n",
              "      <td>0.0</td>\n",
              "      <td>0.0</td>\n",
              "      <td>0.0</td>\n",
              "      <td>0.00000</td>\n",
              "      <td>0.0</td>\n",
              "      <td>0.0</td>\n",
              "      <td>0.0</td>\n",
              "      <td>0.0</td>\n",
              "      <td>0.0</td>\n",
              "      <td>0.0</td>\n",
              "      <td>0.0</td>\n",
              "      <td>0.0</td>\n",
              "      <td>0.0</td>\n",
              "      <td>0.0</td>\n",
              "      <td>0.0</td>\n",
              "      <td>0.0</td>\n",
              "      <td>0.0</td>\n",
              "      <td>0.0</td>\n",
              "      <td>0.0</td>\n",
              "      <td>0.0</td>\n",
              "      <td>0.0</td>\n",
              "      <td>0.0</td>\n",
              "      <td>0.0</td>\n",
              "      <td>0.0</td>\n",
              "      <td>0.0</td>\n",
              "      <td>0.0</td>\n",
              "      <td>0.0</td>\n",
              "      <td>0.0</td>\n",
              "      <td>0.0</td>\n",
              "      <td>0.0</td>\n",
              "      <td>0.000000</td>\n",
              "      <td>0.0</td>\n",
              "      <td>0.0</td>\n",
              "      <td>...</td>\n",
              "      <td>0.0</td>\n",
              "      <td>0.0</td>\n",
              "      <td>0.0</td>\n",
              "      <td>0.0</td>\n",
              "      <td>0.0</td>\n",
              "      <td>0.0</td>\n",
              "      <td>0.0</td>\n",
              "      <td>0.0</td>\n",
              "      <td>0.0</td>\n",
              "      <td>0.0</td>\n",
              "      <td>0.0</td>\n",
              "      <td>0.0</td>\n",
              "      <td>0.0</td>\n",
              "      <td>0.0</td>\n",
              "      <td>0.0</td>\n",
              "      <td>0.0</td>\n",
              "      <td>0.0</td>\n",
              "      <td>0.0</td>\n",
              "      <td>0.0</td>\n",
              "      <td>0.0</td>\n",
              "      <td>0.0</td>\n",
              "      <td>0.0</td>\n",
              "      <td>0.0</td>\n",
              "      <td>0.0</td>\n",
              "      <td>0.0</td>\n",
              "      <td>0.0</td>\n",
              "      <td>0.0</td>\n",
              "      <td>0.0</td>\n",
              "      <td>0.0</td>\n",
              "      <td>0.0</td>\n",
              "      <td>0.0</td>\n",
              "      <td>0.0</td>\n",
              "      <td>0.0</td>\n",
              "      <td>0.0</td>\n",
              "      <td>0.0</td>\n",
              "      <td>0.0</td>\n",
              "      <td>0.0</td>\n",
              "      <td>0.0</td>\n",
              "      <td>0.0</td>\n",
              "      <td>0.0</td>\n",
              "    </tr>\n",
              "    <tr>\n",
              "      <th>5</th>\n",
              "      <td>0.0</td>\n",
              "      <td>0.0</td>\n",
              "      <td>0.0</td>\n",
              "      <td>0.0</td>\n",
              "      <td>0.0</td>\n",
              "      <td>0.0</td>\n",
              "      <td>0.0</td>\n",
              "      <td>0.0</td>\n",
              "      <td>0.0</td>\n",
              "      <td>0.0</td>\n",
              "      <td>0.00000</td>\n",
              "      <td>0.0</td>\n",
              "      <td>0.0</td>\n",
              "      <td>0.0</td>\n",
              "      <td>0.0</td>\n",
              "      <td>0.0</td>\n",
              "      <td>0.0</td>\n",
              "      <td>0.0</td>\n",
              "      <td>0.0</td>\n",
              "      <td>0.0</td>\n",
              "      <td>0.0</td>\n",
              "      <td>0.0</td>\n",
              "      <td>0.0</td>\n",
              "      <td>0.0</td>\n",
              "      <td>0.0</td>\n",
              "      <td>0.0</td>\n",
              "      <td>0.0</td>\n",
              "      <td>0.0</td>\n",
              "      <td>0.0</td>\n",
              "      <td>0.0</td>\n",
              "      <td>0.0</td>\n",
              "      <td>0.0</td>\n",
              "      <td>0.0</td>\n",
              "      <td>0.0</td>\n",
              "      <td>0.0</td>\n",
              "      <td>0.0</td>\n",
              "      <td>0.0</td>\n",
              "      <td>0.000000</td>\n",
              "      <td>0.0</td>\n",
              "      <td>0.0</td>\n",
              "      <td>...</td>\n",
              "      <td>0.0</td>\n",
              "      <td>0.0</td>\n",
              "      <td>0.0</td>\n",
              "      <td>0.0</td>\n",
              "      <td>0.0</td>\n",
              "      <td>0.0</td>\n",
              "      <td>0.0</td>\n",
              "      <td>0.0</td>\n",
              "      <td>0.0</td>\n",
              "      <td>0.0</td>\n",
              "      <td>0.0</td>\n",
              "      <td>0.0</td>\n",
              "      <td>0.0</td>\n",
              "      <td>0.0</td>\n",
              "      <td>0.0</td>\n",
              "      <td>0.0</td>\n",
              "      <td>0.0</td>\n",
              "      <td>0.0</td>\n",
              "      <td>0.0</td>\n",
              "      <td>0.0</td>\n",
              "      <td>0.0</td>\n",
              "      <td>0.0</td>\n",
              "      <td>0.0</td>\n",
              "      <td>0.0</td>\n",
              "      <td>0.0</td>\n",
              "      <td>0.0</td>\n",
              "      <td>0.0</td>\n",
              "      <td>0.0</td>\n",
              "      <td>0.0</td>\n",
              "      <td>0.0</td>\n",
              "      <td>0.0</td>\n",
              "      <td>0.0</td>\n",
              "      <td>0.0</td>\n",
              "      <td>0.0</td>\n",
              "      <td>0.0</td>\n",
              "      <td>0.0</td>\n",
              "      <td>0.0</td>\n",
              "      <td>0.0</td>\n",
              "      <td>0.0</td>\n",
              "      <td>0.0</td>\n",
              "    </tr>\n",
              "    <tr>\n",
              "      <th>6</th>\n",
              "      <td>0.0</td>\n",
              "      <td>0.0</td>\n",
              "      <td>0.0</td>\n",
              "      <td>0.0</td>\n",
              "      <td>0.0</td>\n",
              "      <td>0.0</td>\n",
              "      <td>0.0</td>\n",
              "      <td>0.0</td>\n",
              "      <td>0.0</td>\n",
              "      <td>0.0</td>\n",
              "      <td>-0.19493</td>\n",
              "      <td>0.0</td>\n",
              "      <td>0.0</td>\n",
              "      <td>0.0</td>\n",
              "      <td>0.0</td>\n",
              "      <td>0.0</td>\n",
              "      <td>0.0</td>\n",
              "      <td>0.0</td>\n",
              "      <td>0.0</td>\n",
              "      <td>0.0</td>\n",
              "      <td>0.0</td>\n",
              "      <td>0.0</td>\n",
              "      <td>0.0</td>\n",
              "      <td>0.0</td>\n",
              "      <td>0.0</td>\n",
              "      <td>0.0</td>\n",
              "      <td>0.0</td>\n",
              "      <td>0.0</td>\n",
              "      <td>0.0</td>\n",
              "      <td>0.0</td>\n",
              "      <td>0.0</td>\n",
              "      <td>0.0</td>\n",
              "      <td>0.0</td>\n",
              "      <td>0.0</td>\n",
              "      <td>0.0</td>\n",
              "      <td>0.0</td>\n",
              "      <td>0.0</td>\n",
              "      <td>0.000000</td>\n",
              "      <td>0.0</td>\n",
              "      <td>0.0</td>\n",
              "      <td>...</td>\n",
              "      <td>0.0</td>\n",
              "      <td>0.0</td>\n",
              "      <td>0.0</td>\n",
              "      <td>0.0</td>\n",
              "      <td>0.0</td>\n",
              "      <td>0.0</td>\n",
              "      <td>0.0</td>\n",
              "      <td>0.0</td>\n",
              "      <td>0.0</td>\n",
              "      <td>0.0</td>\n",
              "      <td>0.0</td>\n",
              "      <td>0.0</td>\n",
              "      <td>0.0</td>\n",
              "      <td>0.0</td>\n",
              "      <td>0.0</td>\n",
              "      <td>0.0</td>\n",
              "      <td>0.0</td>\n",
              "      <td>0.0</td>\n",
              "      <td>0.0</td>\n",
              "      <td>0.0</td>\n",
              "      <td>0.0</td>\n",
              "      <td>0.0</td>\n",
              "      <td>0.0</td>\n",
              "      <td>0.0</td>\n",
              "      <td>0.0</td>\n",
              "      <td>0.0</td>\n",
              "      <td>0.0</td>\n",
              "      <td>0.0</td>\n",
              "      <td>0.0</td>\n",
              "      <td>0.0</td>\n",
              "      <td>0.0</td>\n",
              "      <td>0.0</td>\n",
              "      <td>0.0</td>\n",
              "      <td>0.0</td>\n",
              "      <td>0.0</td>\n",
              "      <td>0.0</td>\n",
              "      <td>0.0</td>\n",
              "      <td>0.0</td>\n",
              "      <td>0.0</td>\n",
              "      <td>0.0</td>\n",
              "    </tr>\n",
              "  </tbody>\n",
              "</table>\n",
              "<p>5 rows × 2828 columns</p>\n",
              "</div>"
            ],
            "text/plain": [
              "name    #####  (hed) Planet Earth  *NSYNC  +44  ...  鬼束ちひろ  동방신기  소녀시대  티아라\n",
              "userID                                          ...                        \n",
              "2         0.0                 0.0     0.0  0.0  ...    0.0   0.0   0.0  0.0\n",
              "3         0.0                 0.0     0.0  0.0  ...    0.0   0.0   0.0  0.0\n",
              "4         0.0                 0.0     0.0  0.0  ...    0.0   0.0   0.0  0.0\n",
              "5         0.0                 0.0     0.0  0.0  ...    0.0   0.0   0.0  0.0\n",
              "6         0.0                 0.0     0.0  0.0  ...    0.0   0.0   0.0  0.0\n",
              "\n",
              "[5 rows x 2828 columns]"
            ]
          },
          "metadata": {
            "tags": []
          },
          "execution_count": 21
        }
      ]
    },
    {
      "cell_type": "code",
      "metadata": {
        "id": "cuGjGG_ahOOG"
      },
      "source": [
        "#same\r\n",
        "X = rating_crosstab.T"
      ],
      "execution_count": 22,
      "outputs": []
    },
    {
      "cell_type": "markdown",
      "metadata": {
        "id": "7wReejAXfvnU"
      },
      "source": [
        "## Surprise"
      ]
    },
    {
      "cell_type": "code",
      "metadata": {
        "colab": {
          "base_uri": "https://localhost:8080/"
        },
        "id": "MZka9kLLgP0H",
        "outputId": "671fd22c-4a5d-4a2f-d0de-8f8cef93dde7"
      },
      "source": [
        "pip install surprise"
      ],
      "execution_count": null,
      "outputs": [
        {
          "output_type": "stream",
          "text": [
            "Collecting surprise\n",
            "  Downloading https://files.pythonhosted.org/packages/61/de/e5cba8682201fcf9c3719a6fdda95693468ed061945493dea2dd37c5618b/surprise-0.1-py2.py3-none-any.whl\n",
            "Collecting scikit-surprise\n",
            "\u001b[?25l  Downloading https://files.pythonhosted.org/packages/97/37/5d334adaf5ddd65da99fc65f6507e0e4599d092ba048f4302fe8775619e8/scikit-surprise-1.1.1.tar.gz (11.8MB)\n",
            "\u001b[K     |████████████████████████████████| 11.8MB 6.0MB/s \n",
            "\u001b[?25hRequirement already satisfied: joblib>=0.11 in /usr/local/lib/python3.6/dist-packages (from scikit-surprise->surprise) (1.0.0)\n",
            "Requirement already satisfied: numpy>=1.11.2 in /usr/local/lib/python3.6/dist-packages (from scikit-surprise->surprise) (1.19.5)\n",
            "Requirement already satisfied: scipy>=1.0.0 in /usr/local/lib/python3.6/dist-packages (from scikit-surprise->surprise) (1.4.1)\n",
            "Requirement already satisfied: six>=1.10.0 in /usr/local/lib/python3.6/dist-packages (from scikit-surprise->surprise) (1.15.0)\n",
            "Building wheels for collected packages: scikit-surprise\n",
            "  Building wheel for scikit-surprise (setup.py) ... \u001b[?25l\u001b[?25hdone\n",
            "  Created wheel for scikit-surprise: filename=scikit_surprise-1.1.1-cp36-cp36m-linux_x86_64.whl size=1618279 sha256=08593efd4a61fff1061276c24290c2c44e6a8aaac16320d362a95ec84b0bd4c6\n",
            "  Stored in directory: /root/.cache/pip/wheels/78/9c/3d/41b419c9d2aff5b6e2b4c0fc8d25c538202834058f9ed110d0\n",
            "Successfully built scikit-surprise\n",
            "Installing collected packages: scikit-surprise, surprise\n",
            "Successfully installed scikit-surprise-1.1.1 surprise-0.1\n"
          ],
          "name": "stdout"
        }
      ]
    },
    {
      "cell_type": "code",
      "metadata": {
        "id": "YIb-qyPLhOt3"
      },
      "source": [
        "from surprise import Dataset, Reader\r\n",
        "from surprise.accuracy import rmse\r\n",
        "from surprise.model_selection import cross_validate, train_test_split\r\n",
        "from surprise import SVD, accuracy\r\n",
        "from surprise import SVDpp, SlopeOne, NMF, NormalPredictor, KNNBaseline, KNNBasic, KNNWithMeans, KNNWithZScore, BaselineOnly, CoClustering"
      ],
      "execution_count": null,
      "outputs": []
    },
    {
      "cell_type": "code",
      "metadata": {
        "id": "n2YZeOJVgN-X"
      },
      "source": [
        "reader=Reader(rating_scale=(combined_data.weight_scaled.min(), combined_data.weight_scaled.max()))\r\n",
        "df_user=Dataset.load_from_df(combined_data[['userID', 'artistID', 'weight_scaled']], reader) #train data"
      ],
      "execution_count": null,
      "outputs": []
    },
    {
      "cell_type": "code",
      "metadata": {
        "colab": {
          "base_uri": "https://localhost:8080/",
          "height": 767
        },
        "id": "0DgT77fkhO5j",
        "outputId": "75421af6-27a9-4bd7-ee55-b04cebf4489e"
      },
      "source": [
        "benchmark = []\r\n",
        "# Iterate over collaborative filtering algorithms\r\n",
        "for algorithm in [ SlopeOne(), NMF(), KNNBaseline(), KNNBasic(), KNNWithMeans(), KNNWithZScore(), CoClustering()]:\r\n",
        "    # Perform cross validation\r\n",
        "    results = cross_validate(algorithm, df_user, measures=['RMSE', 'MAE'], cv=3, verbose=False)\r\n",
        "    \r\n",
        "    # Get results & append algorithm name\r\n",
        "    tmp = pd.DataFrame.from_dict(results).mean(axis=0)\r\n",
        "    tmp = tmp.append(pd.Series([str(algorithm).split(' ')[0].split('.')[-1]], index=['Algorithm']))\r\n",
        "    benchmark.append(tmp)\r\n",
        "    \r\n",
        "pd.DataFrame(benchmark).set_index('Algorithm').sort_values('test_rmse') "
      ],
      "execution_count": null,
      "outputs": [
        {
          "output_type": "stream",
          "text": [
            "Estimating biases using als...\n",
            "Computing the msd similarity matrix...\n",
            "Done computing similarity matrix.\n",
            "Estimating biases using als...\n",
            "Computing the msd similarity matrix...\n",
            "Done computing similarity matrix.\n",
            "Estimating biases using als...\n",
            "Computing the msd similarity matrix...\n",
            "Done computing similarity matrix.\n",
            "Computing the msd similarity matrix...\n",
            "Done computing similarity matrix.\n",
            "Computing the msd similarity matrix...\n",
            "Done computing similarity matrix.\n",
            "Computing the msd similarity matrix...\n",
            "Done computing similarity matrix.\n",
            "Computing the msd similarity matrix...\n",
            "Done computing similarity matrix.\n",
            "Computing the msd similarity matrix...\n",
            "Done computing similarity matrix.\n",
            "Computing the msd similarity matrix...\n",
            "Done computing similarity matrix.\n",
            "Computing the msd similarity matrix...\n",
            "Done computing similarity matrix.\n",
            "Computing the msd similarity matrix...\n",
            "Done computing similarity matrix.\n",
            "Computing the msd similarity matrix...\n",
            "Done computing similarity matrix.\n"
          ],
          "name": "stdout"
        },
        {
          "output_type": "execute_result",
          "data": {
            "text/html": [
              "<div>\n",
              "<style scoped>\n",
              "    .dataframe tbody tr th:only-of-type {\n",
              "        vertical-align: middle;\n",
              "    }\n",
              "\n",
              "    .dataframe tbody tr th {\n",
              "        vertical-align: top;\n",
              "    }\n",
              "\n",
              "    .dataframe thead th {\n",
              "        text-align: right;\n",
              "    }\n",
              "</style>\n",
              "<table border=\"1\" class=\"dataframe\">\n",
              "  <thead>\n",
              "    <tr style=\"text-align: right;\">\n",
              "      <th></th>\n",
              "      <th>test_rmse</th>\n",
              "      <th>test_mae</th>\n",
              "      <th>fit_time</th>\n",
              "      <th>test_time</th>\n",
              "    </tr>\n",
              "    <tr>\n",
              "      <th>Algorithm</th>\n",
              "      <th></th>\n",
              "      <th></th>\n",
              "      <th></th>\n",
              "      <th></th>\n",
              "    </tr>\n",
              "  </thead>\n",
              "  <tbody>\n",
              "    <tr>\n",
              "      <th>SlopeOne</th>\n",
              "      <td>1.113203</td>\n",
              "      <td>0.231090</td>\n",
              "      <td>0.349486</td>\n",
              "      <td>0.763298</td>\n",
              "    </tr>\n",
              "    <tr>\n",
              "      <th>KNNWithMeans</th>\n",
              "      <td>1.116841</td>\n",
              "      <td>0.234086</td>\n",
              "      <td>0.317002</td>\n",
              "      <td>2.468436</td>\n",
              "    </tr>\n",
              "    <tr>\n",
              "      <th>KNNBaseline</th>\n",
              "      <td>1.117887</td>\n",
              "      <td>0.218473</td>\n",
              "      <td>0.391579</td>\n",
              "      <td>2.872973</td>\n",
              "    </tr>\n",
              "    <tr>\n",
              "      <th>KNNBasic</th>\n",
              "      <td>1.129748</td>\n",
              "      <td>0.227569</td>\n",
              "      <td>0.285230</td>\n",
              "      <td>2.275802</td>\n",
              "    </tr>\n",
              "    <tr>\n",
              "      <th>KNNWithZScore</th>\n",
              "      <td>1.235631</td>\n",
              "      <td>0.222554</td>\n",
              "      <td>0.389387</td>\n",
              "      <td>2.652049</td>\n",
              "    </tr>\n",
              "    <tr>\n",
              "      <th>CoClustering</th>\n",
              "      <td>1.514296</td>\n",
              "      <td>0.277525</td>\n",
              "      <td>1.286755</td>\n",
              "      <td>0.164276</td>\n",
              "    </tr>\n",
              "    <tr>\n",
              "      <th>NMF</th>\n",
              "      <td>1.870123</td>\n",
              "      <td>0.315135</td>\n",
              "      <td>3.313770</td>\n",
              "      <td>0.169029</td>\n",
              "    </tr>\n",
              "  </tbody>\n",
              "</table>\n",
              "</div>"
            ],
            "text/plain": [
              "               test_rmse  test_mae  fit_time  test_time\n",
              "Algorithm                                              \n",
              "SlopeOne        1.113203  0.231090  0.349486   0.763298\n",
              "KNNWithMeans    1.116841  0.234086  0.317002   2.468436\n",
              "KNNBaseline     1.117887  0.218473  0.391579   2.872973\n",
              "KNNBasic        1.129748  0.227569  0.285230   2.275802\n",
              "KNNWithZScore   1.235631  0.222554  0.389387   2.652049\n",
              "CoClustering    1.514296  0.277525  1.286755   0.164276\n",
              "NMF             1.870123  0.315135  3.313770   0.169029"
            ]
          },
          "metadata": {
            "tags": []
          },
          "execution_count": 64
        }
      ]
    },
    {
      "cell_type": "markdown",
      "metadata": {
        "id": "gI1O5zjQzpxG"
      },
      "source": [
        "El menor RMSE esta dado por KNNBaseline, por lo tanto es el que se usará para recomendar las peliculas."
      ]
    },
    {
      "cell_type": "code",
      "metadata": {
        "colab": {
          "base_uri": "https://localhost:8080/"
        },
        "id": "NC76LmEGlMxR",
        "outputId": "2972a7df-6fbd-44fa-ab7d-f898f8c818e0"
      },
      "source": [
        "## Using collaborative filtering baseline\r\n",
        "algo=KNNBaseline()\r\n",
        "perf=cross_validate(algo, df_user, measures=['RMSE','MAE'], cv=3, verbose=False)\r\n",
        "\r\n",
        "print(perf)"
      ],
      "execution_count": null,
      "outputs": [
        {
          "output_type": "stream",
          "text": [
            "Estimating biases using als...\n",
            "Computing the msd similarity matrix...\n",
            "Done computing similarity matrix.\n",
            "Estimating biases using als...\n",
            "Computing the msd similarity matrix...\n",
            "Done computing similarity matrix.\n",
            "Estimating biases using als...\n",
            "Computing the msd similarity matrix...\n",
            "Done computing similarity matrix.\n",
            "{'test_rmse': array([1.13892491, 1.26550653, 0.95510341]), 'test_mae': array([0.21619006, 0.21878739, 0.21914198]), 'fit_time': (0.37593698501586914, 0.3793175220489502, 0.4011204242706299), 'test_time': (2.7355940341949463, 2.8064522743225098, 2.7097318172454834)}\n"
          ],
          "name": "stdout"
        }
      ]
    },
    {
      "cell_type": "markdown",
      "metadata": {
        "id": "jAzLX4NV0BP_"
      },
      "source": [
        "Como primer paso entrenamos el modelo"
      ]
    },
    {
      "cell_type": "code",
      "metadata": {
        "id": "-SFVImPTwu8Q"
      },
      "source": [
        "#Entrenamos el modelo de recomendación: Paso 1\r\n",
        "def getSimModle():\r\n",
        "  trainset=df_user.build_full_trainset()\r\n",
        "  #usamos pearson_baseline para calcular la similitud entre los artistas \r\n",
        "  sim_options={'name':'pearson_baseline', 'user_based':False}\r\n",
        "  #usamos KNNBaseline\r\n",
        "  algo=KNNBaseline(sim_options=sim_options)\r\n",
        "  #entrenamos el modelo\r\n",
        "  algo.fit(trainset)\r\n",
        "  return algo\r\n"
      ],
      "execution_count": null,
      "outputs": []
    },
    {
      "cell_type": "code",
      "metadata": {
        "id": "WEmGEo370IUj"
      },
      "source": [
        "#creacion de diccionarios: Paso2\r\n",
        "name_to_rid = dict(zip(combined_data['name'],combined_data['artistID']))\r\n",
        "rid_to_name = dict(zip(combined_data['artistID'],combined_data['name']))"
      ],
      "execution_count": null,
      "outputs": []
    },
    {
      "cell_type": "markdown",
      "metadata": {
        "id": "89T7BmFHIs-f"
      },
      "source": [
        "### creamos sistema de recomendacion"
      ]
    },
    {
      "cell_type": "code",
      "metadata": {
        "id": "Fr9FKsiohPDM"
      },
      "source": [
        "\r\n",
        "# Recomendación de artistas relacionados basados en el modelo definido anteriormente: Paso 3\r\n",
        "def showSimilarArtist(algo, rid_to_name, target_artist):\r\n",
        "    # Obtenemos la raw_id del artista seleccionado\r\n",
        "    target_artist_raw_id = name_to_rid.get(target_artist)\r\n",
        "    \r\n",
        "    #convertimos la raw_id del artista a la ID interna del modelo\r\n",
        "    target_artist_inner_id = algo.trainset.to_inner_iid(target_artist_raw_id)\r\n",
        "    \r\n",
        "    #Obtenemos los artistas recomendados por el modelo, aquí solo 10.\r\n",
        "    target_artist_neighbors = algo.get_neighbors(target_artist_inner_id, 10)\r\n",
        "    \r\n",
        "    #La id interna del modelo es convertida a la id actual del artista\r\n",
        "    neighbors_raw_ids = [algo.trainset.to_raw_iid(inner_id) for inner_id in target_artist_neighbors]\r\n",
        "    #Obtenemos una lista de artist-id o una lista de recomendaciones\r\n",
        "    neighbors_artist = [rid_to_name[raw_id] for raw_id in neighbors_raw_ids]\r\n",
        "    print('The 10 nearest neighbors of the artist are:')\r\n",
        "    for artist in neighbors_artist:\r\n",
        "       print(artist)\r\n",
        "    "
      ],
      "execution_count": null,
      "outputs": []
    },
    {
      "cell_type": "code",
      "metadata": {
        "colab": {
          "base_uri": "https://localhost:8080/"
        },
        "id": "V1KGaAAXIjH-",
        "outputId": "e8a43e53-9040-451d-c236-ee6c5470f43c"
      },
      "source": [
        "#entrenamos el modelo de recomendación\r\n",
        "algo=getSimModle()"
      ],
      "execution_count": null,
      "outputs": [
        {
          "output_type": "stream",
          "text": [
            "Estimating biases using als...\n",
            "Computing the pearson_baseline similarity matrix...\n",
            "Done computing similarity matrix.\n"
          ],
          "name": "stdout"
        }
      ]
    },
    {
      "cell_type": "code",
      "metadata": {
        "colab": {
          "base_uri": "https://localhost:8080/"
        },
        "id": "OMcaOeOmJBbj",
        "outputId": "f3f83f6f-4463-4cc8-8d00-2ce0765706e2"
      },
      "source": [
        "#mostramos los artistas relacionados\r\n",
        "target_artist = 'AC/DC'\r\n",
        "showSimilarArtist(algo ,rid_to_name, target_artist)"
      ],
      "execution_count": null,
      "outputs": [
        {
          "output_type": "stream",
          "text": [
            "The 10 nearest neighbors of the artist are:\n",
            "Scorpions\n",
            "Aerosmith\n",
            "Queen\n",
            "Black Label Society\n",
            "Motörhead\n",
            "KISS\n",
            "The Strokes\n",
            "Jimi Hendrix\n",
            "The Killers\n",
            "R.E.M.\n"
          ],
          "name": "stdout"
        }
      ]
    },
    {
      "cell_type": "code",
      "metadata": {
        "colab": {
          "base_uri": "https://localhost:8080/"
        },
        "id": "SXSdUNUTKnJG",
        "outputId": "f234e3a1-89b5-4e50-ae6f-f15ec88e8241"
      },
      "source": [
        "#mostramos los artistas relacionados\r\n",
        "target_artist = 'Ramones'\r\n",
        "showSimilarArtist(algo ,rid_to_name, target_artist)"
      ],
      "execution_count": null,
      "outputs": [
        {
          "output_type": "stream",
          "text": [
            "The 10 nearest neighbors of the artist are:\n",
            "Black Sabbath\n",
            "Matanza\n",
            "Blur\n",
            "Judas Priest\n",
            "Rise Against\n",
            "Nirvana\n",
            "Pearl Jam\n",
            "The Clash\n",
            "Arcade Fire\n",
            "Echo & The Bunnymen\n"
          ],
          "name": "stdout"
        }
      ]
    },
    {
      "cell_type": "code",
      "metadata": {
        "colab": {
          "base_uri": "https://localhost:8080/"
        },
        "id": "TnImXVSmLGNh",
        "outputId": "469df632-4026-44b1-9fd1-ad9e38bafba7"
      },
      "source": [
        "#mostramos los artistas relacionados\r\n",
        "target_artist = 'Justin Bieber'\r\n",
        "showSimilarArtist(algo ,rid_to_name, target_artist)"
      ],
      "execution_count": null,
      "outputs": [
        {
          "output_type": "stream",
          "text": [
            "The 10 nearest neighbors of the artist are:\n",
            "Black Eyed Peas\n",
            "Mariah Carey\n",
            "Selena Gomez & the Scene\n",
            "Paramore\n",
            "Ke$ha\n",
            "McFly\n",
            "Kelly Clarkson\n",
            "Hilary Duff\n",
            "3OH!3\n",
            "OneRepublic\n"
          ],
          "name": "stdout"
        }
      ]
    },
    {
      "cell_type": "code",
      "metadata": {
        "colab": {
          "base_uri": "https://localhost:8080/"
        },
        "id": "cTzKSiubLXKq",
        "outputId": "52deffdc-43d5-4040-ad8f-ccad7f5b7cf3"
      },
      "source": [
        "#mostramos los artistas relacionados\r\n",
        "target_artist = 'The Beatles'\r\n",
        "showSimilarArtist(algo ,rid_to_name, target_artist)"
      ],
      "execution_count": null,
      "outputs": [
        {
          "output_type": "stream",
          "text": [
            "The 10 nearest neighbors of the artist are:\n",
            "Amy Winehouse\n",
            "The Rolling Stones\n",
            "Snow Patrol\n",
            "Travis\n",
            "Bloc Party\n",
            "Oasis\n",
            "Genesis\n",
            "John Lennon\n",
            "The White Stripes\n",
            "The Fray\n"
          ],
          "name": "stdout"
        }
      ]
    },
    {
      "cell_type": "code",
      "metadata": {
        "colab": {
          "base_uri": "https://localhost:8080/"
        },
        "id": "UB0hr_a-Bl_E",
        "outputId": "4e42be86-0638-4845-ab39-856a8cb9bfe6"
      },
      "source": [
        "#mostramos los artistas relacionados\r\n",
        "target_artist = 'Joy Division'\r\n",
        "showSimilarArtist(algo ,rid_to_name, target_artist)"
      ],
      "execution_count": null,
      "outputs": [
        {
          "output_type": "stream",
          "text": [
            "The 10 nearest neighbors of the artist are:\n",
            "The Smiths\n",
            "Arcade Fire\n",
            "Sonic Youth\n",
            "Coldplay\n",
            "New Order\n",
            "The xx\n",
            "Martin L. Gore\n",
            "Metallica\n",
            "White Lies\n",
            "Kaiser Chiefs\n"
          ],
          "name": "stdout"
        }
      ]
    },
    {
      "cell_type": "code",
      "metadata": {
        "colab": {
          "base_uri": "https://localhost:8080/"
        },
        "id": "eZ-TkhvgD8yB",
        "outputId": "3f6e504e-5260-4dab-d1cc-7f7c2bc1be2c"
      },
      "source": [
        "##mostramos los artistas relacionados\r\n",
        "target_artist = 'Muse'\r\n",
        "showSimilarArtist(algo ,rid_to_name, target_artist)"
      ],
      "execution_count": null,
      "outputs": [
        {
          "output_type": "stream",
          "text": [
            "The 10 nearest neighbors of the artist are:\n",
            "Avril Lavigne\n",
            "Good Charlotte\n",
            "Ke$ha\n",
            "Arctic Monkeys\n",
            "Deftones\n",
            "Lady Gaga\n",
            "The Veronicas\n",
            "The Prodigy\n",
            "Rise Against\n",
            "Justin Timberlake\n"
          ],
          "name": "stdout"
        }
      ]
    },
    {
      "cell_type": "code",
      "metadata": {
        "colab": {
          "base_uri": "https://localhost:8080/"
        },
        "id": "bTCNdJXihjGb",
        "outputId": "974dc1a7-7b50-42d0-aa9c-d36e3738ca97"
      },
      "source": [
        "#mostramos los artistas relacionados\r\n",
        "target_artist = 'Radiohead'\r\n",
        "showSimilarArtist(algo ,rid_to_name, target_artist)"
      ],
      "execution_count": null,
      "outputs": [
        {
          "output_type": "stream",
          "text": [
            "The 10 nearest neighbors of the artist are:\n",
            "Pixies\n",
            "Oasis\n",
            "Red Hot Chili Peppers\n",
            "Death Cab for Cutie\n",
            "The Cranberries\n",
            "The Who\n",
            "Interpol\n",
            "Keane\n",
            "The Mars Volta\n",
            "David Bowie\n"
          ],
          "name": "stdout"
        }
      ]
    },
    {
      "cell_type": "markdown",
      "metadata": {
        "id": "hNgtLEZV9Dt9"
      },
      "source": [
        "## Parte 2"
      ]
    },
    {
      "cell_type": "markdown",
      "metadata": {
        "id": "S1Wu5frvW3tN"
      },
      "source": [
        "## 2.1"
      ]
    },
    {
      "cell_type": "code",
      "metadata": {
        "colab": {
          "base_uri": "https://localhost:8080/",
          "height": 317
        },
        "id": "Vd89XHC_9c_M",
        "outputId": "771a8d36-6659-49fb-ad4d-3565f586d70d"
      },
      "source": [
        "#buscamos la ID de esos artistas que dejaremos afuera (10)\r\n",
        "array=['Taylor Swift', 'Madonna', 'Evanescense', 'Radiohead', 'Muse', 'Depeche Mode', 'Paramore', 'The Beatles' , 'Shakira', 'Britney Spears']\r\n",
        "artist_data.loc[artist_data['name'].isin(array)]\r\n"
      ],
      "execution_count": 9,
      "outputs": [
        {
          "output_type": "execute_result",
          "data": {
            "text/html": [
              "<div>\n",
              "<style scoped>\n",
              "    .dataframe tbody tr th:only-of-type {\n",
              "        vertical-align: middle;\n",
              "    }\n",
              "\n",
              "    .dataframe tbody tr th {\n",
              "        vertical-align: top;\n",
              "    }\n",
              "\n",
              "    .dataframe thead th {\n",
              "        text-align: right;\n",
              "    }\n",
              "</style>\n",
              "<table border=\"1\" class=\"dataframe\">\n",
              "  <thead>\n",
              "    <tr style=\"text-align: right;\">\n",
              "      <th></th>\n",
              "      <th>artistID</th>\n",
              "      <th>name</th>\n",
              "      <th>url</th>\n",
              "      <th>pictureURL</th>\n",
              "    </tr>\n",
              "  </thead>\n",
              "  <tbody>\n",
              "    <tr>\n",
              "      <th>61</th>\n",
              "      <td>67</td>\n",
              "      <td>Madonna</td>\n",
              "      <td>http://www.last.fm/music/Madonna</td>\n",
              "      <td>http://userserve-ak.last.fm/serve/252/340387.jpg</td>\n",
              "    </tr>\n",
              "    <tr>\n",
              "      <th>66</th>\n",
              "      <td>72</td>\n",
              "      <td>Depeche Mode</td>\n",
              "      <td>http://www.last.fm/music/Depeche+Mode</td>\n",
              "      <td>http://userserve-ak.last.fm/serve/252/75022.jpg</td>\n",
              "    </tr>\n",
              "    <tr>\n",
              "      <th>148</th>\n",
              "      <td>154</td>\n",
              "      <td>Radiohead</td>\n",
              "      <td>http://www.last.fm/music/Radiohead</td>\n",
              "      <td>http://userserve-ak.last.fm/serve/252/8461967.jpg</td>\n",
              "    </tr>\n",
              "    <tr>\n",
              "      <th>184</th>\n",
              "      <td>190</td>\n",
              "      <td>Muse</td>\n",
              "      <td>http://www.last.fm/music/Muse</td>\n",
              "      <td>http://userserve-ak.last.fm/serve/252/416514.jpg</td>\n",
              "    </tr>\n",
              "    <tr>\n",
              "      <th>221</th>\n",
              "      <td>227</td>\n",
              "      <td>The Beatles</td>\n",
              "      <td>http://www.last.fm/music/The+Beatles</td>\n",
              "      <td>http://userserve-ak.last.fm/serve/252/2588646.jpg</td>\n",
              "    </tr>\n",
              "    <tr>\n",
              "      <th>283</th>\n",
              "      <td>289</td>\n",
              "      <td>Britney Spears</td>\n",
              "      <td>http://www.last.fm/music/Britney+Spears</td>\n",
              "      <td>http://userserve-ak.last.fm/serve/252/60126439...</td>\n",
              "    </tr>\n",
              "    <tr>\n",
              "      <th>338</th>\n",
              "      <td>344</td>\n",
              "      <td>Taylor Swift</td>\n",
              "      <td>http://www.last.fm/music/Taylor+Swift</td>\n",
              "      <td>http://userserve-ak.last.fm/serve/252/45447333...</td>\n",
              "    </tr>\n",
              "    <tr>\n",
              "      <th>492</th>\n",
              "      <td>498</td>\n",
              "      <td>Paramore</td>\n",
              "      <td>http://www.last.fm/music/Paramore</td>\n",
              "      <td>http://userserve-ak.last.fm/serve/252/35837991...</td>\n",
              "    </tr>\n",
              "    <tr>\n",
              "      <th>695</th>\n",
              "      <td>701</td>\n",
              "      <td>Shakira</td>\n",
              "      <td>http://www.last.fm/music/Shakira</td>\n",
              "      <td>http://userserve-ak.last.fm/serve/252/52116105...</td>\n",
              "    </tr>\n",
              "  </tbody>\n",
              "</table>\n",
              "</div>"
            ],
            "text/plain": [
              "     artistID  ...                                         pictureURL\n",
              "61         67  ...   http://userserve-ak.last.fm/serve/252/340387.jpg\n",
              "66         72  ...    http://userserve-ak.last.fm/serve/252/75022.jpg\n",
              "148       154  ...  http://userserve-ak.last.fm/serve/252/8461967.jpg\n",
              "184       190  ...   http://userserve-ak.last.fm/serve/252/416514.jpg\n",
              "221       227  ...  http://userserve-ak.last.fm/serve/252/2588646.jpg\n",
              "283       289  ...  http://userserve-ak.last.fm/serve/252/60126439...\n",
              "338       344  ...  http://userserve-ak.last.fm/serve/252/45447333...\n",
              "492       498  ...  http://userserve-ak.last.fm/serve/252/35837991...\n",
              "695       701  ...  http://userserve-ak.last.fm/serve/252/52116105...\n",
              "\n",
              "[9 rows x 4 columns]"
            ]
          },
          "metadata": {
            "tags": []
          },
          "execution_count": 9
        }
      ]
    },
    {
      "cell_type": "code",
      "metadata": {
        "id": "-f99ssru0e1D"
      },
      "source": [
        "#con la ID quitamos la informacion de los artistas de user_taggedartist\r\n",
        "array_id=[67, 72, 154, 190, 227, 289,  344, 498, 701]\r\n",
        "drop_artist_data = user_taggedartists.loc[user_taggedartists['artistID'].isin(array_id)] #datos de los artistas que dejamos fuera\r\n",
        "user_taggedartists = user_taggedartists.loc[~user_taggedartists['artistID'].isin(array_id)] #artistas que quedan"
      ],
      "execution_count": 10,
      "outputs": []
    },
    {
      "cell_type": "code",
      "metadata": {
        "colab": {
          "base_uri": "https://localhost:8080/",
          "height": 197
        },
        "id": "CAHnPp4sSyZ8",
        "outputId": "b9475d95-446c-4223-acec-d53feb4953b0"
      },
      "source": [
        "#con la ID quitamos la información de los artistas de artist_data\r\n",
        "drop_artist = artist_data.loc[artist_data['artistID'].isin(array_id)] #datos de los artistas que dejamos fuera\r\n",
        "useful_artist= artist_data.loc[~artist_data['artistID'].isin(array_id)] #artistas que quedan\r\n",
        "useful_artist.sample(5)"
      ],
      "execution_count": 11,
      "outputs": [
        {
          "output_type": "execute_result",
          "data": {
            "text/html": [
              "<div>\n",
              "<style scoped>\n",
              "    .dataframe tbody tr th:only-of-type {\n",
              "        vertical-align: middle;\n",
              "    }\n",
              "\n",
              "    .dataframe tbody tr th {\n",
              "        vertical-align: top;\n",
              "    }\n",
              "\n",
              "    .dataframe thead th {\n",
              "        text-align: right;\n",
              "    }\n",
              "</style>\n",
              "<table border=\"1\" class=\"dataframe\">\n",
              "  <thead>\n",
              "    <tr style=\"text-align: right;\">\n",
              "      <th></th>\n",
              "      <th>artistID</th>\n",
              "      <th>name</th>\n",
              "      <th>url</th>\n",
              "      <th>pictureURL</th>\n",
              "    </tr>\n",
              "  </thead>\n",
              "  <tbody>\n",
              "    <tr>\n",
              "      <th>1936</th>\n",
              "      <td>1951</td>\n",
              "      <td>Pomegranates</td>\n",
              "      <td>http://www.last.fm/music/Pomegranates</td>\n",
              "      <td>http://userserve-ak.last.fm/serve/252/53187247...</td>\n",
              "    </tr>\n",
              "    <tr>\n",
              "      <th>15389</th>\n",
              "      <td>16189</td>\n",
              "      <td>The Priests</td>\n",
              "      <td>http://www.last.fm/music/The+Priests</td>\n",
              "      <td>http://userserve-ak.last.fm/serve/252/31599295...</td>\n",
              "    </tr>\n",
              "    <tr>\n",
              "      <th>8035</th>\n",
              "      <td>8228</td>\n",
              "      <td>Дети Picasso</td>\n",
              "      <td>http://www.last.fm/music/%D0%94%D0%B5%D1%82%D0...</td>\n",
              "      <td>http://userserve-ak.last.fm/serve/252/165404.jpg</td>\n",
              "    </tr>\n",
              "    <tr>\n",
              "      <th>7574</th>\n",
              "      <td>7736</td>\n",
              "      <td>The Novellos</td>\n",
              "      <td>http://www.last.fm/music/The+Novellos</td>\n",
              "      <td>http://userserve-ak.last.fm/serve/252/36057159...</td>\n",
              "    </tr>\n",
              "    <tr>\n",
              "      <th>5327</th>\n",
              "      <td>5449</td>\n",
              "      <td>Nosso Trio</td>\n",
              "      <td>http://www.last.fm/music/Nosso+Trio</td>\n",
              "      <td>http://userserve-ak.last.fm/serve/252/7745777.jpg</td>\n",
              "    </tr>\n",
              "  </tbody>\n",
              "</table>\n",
              "</div>"
            ],
            "text/plain": [
              "       artistID  ...                                         pictureURL\n",
              "1936       1951  ...  http://userserve-ak.last.fm/serve/252/53187247...\n",
              "15389     16189  ...  http://userserve-ak.last.fm/serve/252/31599295...\n",
              "8035       8228  ...   http://userserve-ak.last.fm/serve/252/165404.jpg\n",
              "7574       7736  ...  http://userserve-ak.last.fm/serve/252/36057159...\n",
              "5327       5449  ...  http://userserve-ak.last.fm/serve/252/7745777.jpg\n",
              "\n",
              "[5 rows x 4 columns]"
            ]
          },
          "metadata": {
            "tags": []
          },
          "execution_count": 11
        }
      ]
    },
    {
      "cell_type": "code",
      "metadata": {
        "id": "MwYrNq4J-Yso"
      },
      "source": [
        "user_taggedartists=user_taggedartists.drop(['userID','day', 'month', 'year'],axis= 1)"
      ],
      "execution_count": 12,
      "outputs": []
    },
    {
      "cell_type": "code",
      "metadata": {
        "id": "yiNpU9uYT_Mx"
      },
      "source": [
        "useful_artist=useful_artist.drop(['url', 'pictureURL'],axis=1)"
      ],
      "execution_count": 13,
      "outputs": []
    },
    {
      "cell_type": "markdown",
      "metadata": {
        "id": "ZPVbNShkXBgP"
      },
      "source": [
        "##2.2"
      ]
    },
    {
      "cell_type": "code",
      "metadata": {
        "colab": {
          "base_uri": "https://localhost:8080/",
          "height": 197
        },
        "id": "XByHxR5B_sOr",
        "outputId": "7ad0c23f-fef7-4e84-b376-0fc52b371c76"
      },
      "source": [
        "\r\n",
        "content_vector=pd.merge(left=user_taggedartists,right=tags, left_on='tagID', right_on='tagID')\r\n",
        "content_vector.sample(5)"
      ],
      "execution_count": 14,
      "outputs": [
        {
          "output_type": "execute_result",
          "data": {
            "text/html": [
              "<div>\n",
              "<style scoped>\n",
              "    .dataframe tbody tr th:only-of-type {\n",
              "        vertical-align: middle;\n",
              "    }\n",
              "\n",
              "    .dataframe tbody tr th {\n",
              "        vertical-align: top;\n",
              "    }\n",
              "\n",
              "    .dataframe thead th {\n",
              "        text-align: right;\n",
              "    }\n",
              "</style>\n",
              "<table border=\"1\" class=\"dataframe\">\n",
              "  <thead>\n",
              "    <tr style=\"text-align: right;\">\n",
              "      <th></th>\n",
              "      <th>artistID</th>\n",
              "      <th>tagID</th>\n",
              "      <th>tagValue</th>\n",
              "    </tr>\n",
              "  </thead>\n",
              "  <tbody>\n",
              "    <tr>\n",
              "      <th>180034</th>\n",
              "      <td>728</td>\n",
              "      <td>12209</td>\n",
              "      <td>other great tracks</td>\n",
              "    </tr>\n",
              "    <tr>\n",
              "      <th>48826</th>\n",
              "      <td>3027</td>\n",
              "      <td>1</td>\n",
              "      <td>metal</td>\n",
              "    </tr>\n",
              "    <tr>\n",
              "      <th>20396</th>\n",
              "      <td>1001</td>\n",
              "      <td>25</td>\n",
              "      <td>80s</td>\n",
              "    </tr>\n",
              "    <tr>\n",
              "      <th>146857</th>\n",
              "      <td>13688</td>\n",
              "      <td>2115</td>\n",
              "      <td>acoustic rock</td>\n",
              "    </tr>\n",
              "    <tr>\n",
              "      <th>135117</th>\n",
              "      <td>3473</td>\n",
              "      <td>1030</td>\n",
              "      <td>1986</td>\n",
              "    </tr>\n",
              "  </tbody>\n",
              "</table>\n",
              "</div>"
            ],
            "text/plain": [
              "        artistID  tagID            tagValue\n",
              "180034       728  12209  other great tracks\n",
              "48826       3027      1               metal\n",
              "20396       1001     25                 80s\n",
              "146857     13688   2115       acoustic rock\n",
              "135117      3473   1030                1986"
            ]
          },
          "metadata": {
            "tags": []
          },
          "execution_count": 14
        }
      ]
    },
    {
      "cell_type": "code",
      "metadata": {
        "colab": {
          "base_uri": "https://localhost:8080/"
        },
        "id": "Lkf40UWfEZjU",
        "outputId": "c78151ea-fd07-4ee8-98b3-dce3e6eab1e9"
      },
      "source": [
        "content_vector['tagValue'].value_counts().head(10)"
      ],
      "execution_count": 15,
      "outputs": [
        {
          "output_type": "execute_result",
          "data": {
            "text/plain": [
              "rock                7229\n",
              "pop                 5116\n",
              "alternative         5051\n",
              "electronic          4511\n",
              "indie               4359\n",
              "female vocalists    4030\n",
              "80s                 2701\n",
              "dance               2588\n",
              "alternative rock    2491\n",
              "classic rock        2199\n",
              "Name: tagValue, dtype: int64"
            ]
          },
          "metadata": {
            "tags": []
          },
          "execution_count": 15
        }
      ]
    },
    {
      "cell_type": "code",
      "metadata": {
        "colab": {
          "base_uri": "https://localhost:8080/"
        },
        "id": "XmeJYtYHIWWo",
        "outputId": "15bde652-9094-4ca8-bc45-a09cb275700b"
      },
      "source": [
        "len(content_vector)"
      ],
      "execution_count": 16,
      "outputs": [
        {
          "output_type": "execute_result",
          "data": {
            "text/plain": [
              "181245"
            ]
          },
          "metadata": {
            "tags": []
          },
          "execution_count": 16
        }
      ]
    },
    {
      "cell_type": "code",
      "metadata": {
        "id": "J8vOt8iEFCEA"
      },
      "source": [
        "#eliminamos los tags con apariciones menor a 2100 para reducir los generos a 10\r\n",
        "sub_df = content_vector[content_vector.groupby('tagValue').tagValue.transform('count')>2100].copy() "
      ],
      "execution_count": 17,
      "outputs": []
    },
    {
      "cell_type": "code",
      "metadata": {
        "colab": {
          "base_uri": "https://localhost:8080/"
        },
        "id": "FoAf2C18FCTX",
        "outputId": "87794117-4bef-4fb1-d13a-011b5d8a716b"
      },
      "source": [
        "sub_df['tagValue'].value_counts()"
      ],
      "execution_count": 18,
      "outputs": [
        {
          "output_type": "execute_result",
          "data": {
            "text/plain": [
              "rock                7229\n",
              "pop                 5116\n",
              "alternative         5051\n",
              "electronic          4511\n",
              "indie               4359\n",
              "female vocalists    4030\n",
              "80s                 2701\n",
              "dance               2588\n",
              "alternative rock    2491\n",
              "classic rock        2199\n",
              "Name: tagValue, dtype: int64"
            ]
          },
          "metadata": {
            "tags": []
          },
          "execution_count": 18
        }
      ]
    },
    {
      "cell_type": "code",
      "metadata": {
        "colab": {
          "base_uri": "https://localhost:8080/"
        },
        "id": "6evPDY6ZKqBr",
        "outputId": "b9c32829-31d4-458d-96aa-7ba3d09874aa"
      },
      "source": [
        "len(sub_df)"
      ],
      "execution_count": 19,
      "outputs": [
        {
          "output_type": "execute_result",
          "data": {
            "text/plain": [
              "40275"
            ]
          },
          "metadata": {
            "tags": []
          },
          "execution_count": 19
        }
      ]
    },
    {
      "cell_type": "code",
      "metadata": {
        "colab": {
          "base_uri": "https://localhost:8080/",
          "height": 197
        },
        "id": "W6G1l4gkUXs-",
        "outputId": "45bfc379-e056-4979-81d3-93f7d7f8f94c"
      },
      "source": [
        "df_final= pd.merge(left=sub_df,right=useful_artist, left_on='artistID', right_on='artistID')\r\n",
        "df_final.head()"
      ],
      "execution_count": 20,
      "outputs": [
        {
          "output_type": "execute_result",
          "data": {
            "text/html": [
              "<div>\n",
              "<style scoped>\n",
              "    .dataframe tbody tr th:only-of-type {\n",
              "        vertical-align: middle;\n",
              "    }\n",
              "\n",
              "    .dataframe tbody tr th {\n",
              "        vertical-align: top;\n",
              "    }\n",
              "\n",
              "    .dataframe thead th {\n",
              "        text-align: right;\n",
              "    }\n",
              "</style>\n",
              "<table border=\"1\" class=\"dataframe\">\n",
              "  <thead>\n",
              "    <tr style=\"text-align: right;\">\n",
              "      <th></th>\n",
              "      <th>artistID</th>\n",
              "      <th>tagID</th>\n",
              "      <th>tagValue</th>\n",
              "      <th>name</th>\n",
              "    </tr>\n",
              "  </thead>\n",
              "  <tbody>\n",
              "    <tr>\n",
              "      <th>0</th>\n",
              "      <td>52</td>\n",
              "      <td>18</td>\n",
              "      <td>electronic</td>\n",
              "      <td>Morcheeba</td>\n",
              "    </tr>\n",
              "    <tr>\n",
              "      <th>1</th>\n",
              "      <td>52</td>\n",
              "      <td>18</td>\n",
              "      <td>electronic</td>\n",
              "      <td>Morcheeba</td>\n",
              "    </tr>\n",
              "    <tr>\n",
              "      <th>2</th>\n",
              "      <td>52</td>\n",
              "      <td>18</td>\n",
              "      <td>electronic</td>\n",
              "      <td>Morcheeba</td>\n",
              "    </tr>\n",
              "    <tr>\n",
              "      <th>3</th>\n",
              "      <td>52</td>\n",
              "      <td>18</td>\n",
              "      <td>electronic</td>\n",
              "      <td>Morcheeba</td>\n",
              "    </tr>\n",
              "    <tr>\n",
              "      <th>4</th>\n",
              "      <td>52</td>\n",
              "      <td>18</td>\n",
              "      <td>electronic</td>\n",
              "      <td>Morcheeba</td>\n",
              "    </tr>\n",
              "  </tbody>\n",
              "</table>\n",
              "</div>"
            ],
            "text/plain": [
              "   artistID  tagID    tagValue       name\n",
              "0        52     18  electronic  Morcheeba\n",
              "1        52     18  electronic  Morcheeba\n",
              "2        52     18  electronic  Morcheeba\n",
              "3        52     18  electronic  Morcheeba\n",
              "4        52     18  electronic  Morcheeba"
            ]
          },
          "metadata": {
            "tags": []
          },
          "execution_count": 20
        }
      ]
    },
    {
      "cell_type": "code",
      "metadata": {
        "colab": {
          "base_uri": "https://localhost:8080/",
          "height": 197
        },
        "id": "-bCTcO13LRYo",
        "outputId": "3cd4188e-0bd0-46b2-cdb0-c7a3c7b6d354"
      },
      "source": [
        "df_final=df_final.groupby(['artistID', 'name'], as_index=False)['tagValue'].apply(','.join)\r\n",
        "df_final.sample(5)"
      ],
      "execution_count": 22,
      "outputs": [
        {
          "output_type": "execute_result",
          "data": {
            "text/html": [
              "<div>\n",
              "<style scoped>\n",
              "    .dataframe tbody tr th:only-of-type {\n",
              "        vertical-align: middle;\n",
              "    }\n",
              "\n",
              "    .dataframe tbody tr th {\n",
              "        vertical-align: top;\n",
              "    }\n",
              "\n",
              "    .dataframe thead th {\n",
              "        text-align: right;\n",
              "    }\n",
              "</style>\n",
              "<table border=\"1\" class=\"dataframe\">\n",
              "  <thead>\n",
              "    <tr style=\"text-align: right;\">\n",
              "      <th></th>\n",
              "      <th>artistID</th>\n",
              "      <th>name</th>\n",
              "      <th>tagValue</th>\n",
              "    </tr>\n",
              "  </thead>\n",
              "  <tbody>\n",
              "    <tr>\n",
              "      <th>4549</th>\n",
              "      <td>11234</td>\n",
              "      <td>Jarvis Cocker</td>\n",
              "      <td>pop,alternative,alternative,alternative</td>\n",
              "    </tr>\n",
              "    <tr>\n",
              "      <th>4883</th>\n",
              "      <td>12750</td>\n",
              "      <td>Muscles</td>\n",
              "      <td>electronic,dance</td>\n",
              "    </tr>\n",
              "    <tr>\n",
              "      <th>3193</th>\n",
              "      <td>6556</td>\n",
              "      <td>The Lemonheads</td>\n",
              "      <td>alternative rock,indie</td>\n",
              "    </tr>\n",
              "    <tr>\n",
              "      <th>6033</th>\n",
              "      <td>18363</td>\n",
              "      <td>Cassandra Wilson</td>\n",
              "      <td>female vocalists,female vocalists,female vocal...</td>\n",
              "    </tr>\n",
              "    <tr>\n",
              "      <th>5381</th>\n",
              "      <td>15036</td>\n",
              "      <td>Bruce Hornsby</td>\n",
              "      <td>80s,80s</td>\n",
              "    </tr>\n",
              "  </tbody>\n",
              "</table>\n",
              "</div>"
            ],
            "text/plain": [
              "      artistID  ...                                           tagValue\n",
              "4549     11234  ...            pop,alternative,alternative,alternative\n",
              "4883     12750  ...                                   electronic,dance\n",
              "3193      6556  ...                             alternative rock,indie\n",
              "6033     18363  ...  female vocalists,female vocalists,female vocal...\n",
              "5381     15036  ...                                            80s,80s\n",
              "\n",
              "[5 rows x 3 columns]"
            ]
          },
          "metadata": {
            "tags": []
          },
          "execution_count": 22
        }
      ]
    },
    {
      "cell_type": "markdown",
      "metadata": {
        "id": "0rbU0622XNNO"
      },
      "source": [
        "##2.3"
      ]
    },
    {
      "cell_type": "code",
      "metadata": {
        "id": "6W4hbkilNAl5"
      },
      "source": [
        "from sklearn.feature_extraction.text import TfidfVectorizer\r\n",
        "from sklearn.metrics.pairwise import cosine_similarity\r\n",
        "from sklearn.metrics.pairwise import linear_kernel"
      ],
      "execution_count": 23,
      "outputs": []
    },
    {
      "cell_type": "code",
      "metadata": {
        "id": "9rmg6cr8NFj8"
      },
      "source": [
        "# Initialize tfidf vectorizer\r\n",
        "tf=TfidfVectorizer(analyzer='word',ngram_range=(1,1),stop_words='english', min_df=0)\r\n",
        "# Fit and transform \r\n",
        "tfidf_matrix = tf.fit_transform(df_final['tagValue'])"
      ],
      "execution_count": 24,
      "outputs": []
    },
    {
      "cell_type": "code",
      "metadata": {
        "colab": {
          "base_uri": "https://localhost:8080/"
        },
        "id": "PF3uU9l2yh_T",
        "outputId": "08a76374-8999-4e46-9634-522167b40a9d"
      },
      "source": [
        "tfidf_matrix.shape"
      ],
      "execution_count": 39,
      "outputs": [
        {
          "output_type": "execute_result",
          "data": {
            "text/plain": [
              "(6102, 10)"
            ]
          },
          "metadata": {
            "tags": []
          },
          "execution_count": 39
        }
      ]
    },
    {
      "cell_type": "code",
      "metadata": {
        "id": "jflfDp0qN6oJ"
      },
      "source": [
        "cos_similarities = cosine_similarity(tfidf_matrix,tfidf_matrix)"
      ],
      "execution_count": 26,
      "outputs": []
    },
    {
      "cell_type": "code",
      "metadata": {
        "id": "RmNGBKU_Sfle"
      },
      "source": [
        "df_final_2=df_final.reset_index()\r\n",
        "art_name=df_final_2['name']\r\n",
        "indices=pd.Series(df_final_2.index, index=df_final_2['name'])"
      ],
      "execution_count": 33,
      "outputs": []
    },
    {
      "cell_type": "code",
      "metadata": {
        "id": "IjsckjbeN6w8"
      },
      "source": [
        "def get_recommendations(artist_name): #armamos un sistema de recomendacion basado en contenido\r\n",
        "  idx=indices[artist_name]\r\n",
        "  sim_scores=list(enumerate(cos_similarities[idx]))\r\n",
        "  sim_scores=sorted(sim_scores, key=lambda x: x[1], reverse= True)\r\n",
        "  sim_scores=sim_scores[1:31]\r\n",
        "  artist_indices= [i[0] for i in sim_scores]\r\n",
        "  return art_name.iloc[artist_indices]\r\n"
      ],
      "execution_count": 34,
      "outputs": []
    },
    {
      "cell_type": "code",
      "metadata": {
        "id": "ni0DKCwuN64r",
        "colab": {
          "base_uri": "https://localhost:8080/"
        },
        "outputId": "a868117e-8024-466d-bbe5-a9be9f4f844e"
      },
      "source": [
        "get_recommendations('Nirvana').head(10)"
      ],
      "execution_count": 35,
      "outputs": [
        {
          "output_type": "execute_result",
          "data": {
            "text/plain": [
              "1412                        Creed\n",
              "287         The Smashing Pumpkins\n",
              "1191                   Audioslave\n",
              "1589                     Anberlin\n",
              "1956               Counting Crows\n",
              "273     Móveis Coloniais de Acaju\n",
              "330            30 Seconds to Mars\n",
              "124           My Chemical Romance\n",
              "3682                         Live\n",
              "107             Poets of the Fall\n",
              "Name: name, dtype: object"
            ]
          },
          "metadata": {
            "tags": []
          },
          "execution_count": 35
        }
      ]
    },
    {
      "cell_type": "code",
      "metadata": {
        "id": "09dQc5URN5pp",
        "colab": {
          "base_uri": "https://localhost:8080/"
        },
        "outputId": "08c5033a-12b3-4731-ba3f-23a560802e52"
      },
      "source": [
        "get_recommendations('The Strokes').head(10)"
      ],
      "execution_count": 37,
      "outputs": [
        {
          "output_type": "execute_result",
          "data": {
            "text/plain": [
              "2260         Cold War Kids\n",
              "139          Kings of Leon\n",
              "2530                   Ash\n",
              "91           Stereophonics\n",
              "140            The Killers\n",
              "4786         Cheap Mondays\n",
              "5203      Sleeping at Last\n",
              "5259           Ecos Falsos\n",
              "1954        Phantom Planet\n",
              "2615    Ocean Colour Scene\n",
              "Name: name, dtype: object"
            ]
          },
          "metadata": {
            "tags": []
          },
          "execution_count": 37
        }
      ]
    },
    {
      "cell_type": "code",
      "metadata": {
        "id": "1a5JeBcAOpm0"
      },
      "source": [
        "def hybrid(artist_id, tag):\r\n",
        "  idx=indices[arist_name]\r\n",
        "  ar_id=links_df\r\n"
      ],
      "execution_count": null,
      "outputs": []
    },
    {
      "cell_type": "code",
      "metadata": {
        "id": "-r1HDn8eOp1p"
      },
      "source": [
        ""
      ],
      "execution_count": null,
      "outputs": []
    },
    {
      "cell_type": "code",
      "metadata": {
        "id": "rBVNHkb0Op9Q"
      },
      "source": [
        ""
      ],
      "execution_count": null,
      "outputs": []
    },
    {
      "cell_type": "code",
      "metadata": {
        "id": "_wX_0s8iOqDu"
      },
      "source": [
        ""
      ],
      "execution_count": null,
      "outputs": []
    },
    {
      "cell_type": "code",
      "metadata": {
        "id": "wMZl0oKElvMQ"
      },
      "source": [
        ""
      ],
      "execution_count": null,
      "outputs": []
    }
  ]
}